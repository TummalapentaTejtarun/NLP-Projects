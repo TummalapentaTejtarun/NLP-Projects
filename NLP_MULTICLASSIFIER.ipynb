{
  "nbformat": 4,
  "nbformat_minor": 0,
  "metadata": {
    "colab": {
      "provenance": []
    },
    "kernelspec": {
      "name": "python3",
      "display_name": "Python 3"
    },
    "language_info": {
      "name": "python"
    }
  },
  "cells": [
    {
      "cell_type": "code",
      "execution_count": null,
      "metadata": {
        "colab": {
          "base_uri": "https://localhost:8080/",
          "height": 206
        },
        "id": "uI09IvCPw5Fp",
        "outputId": "9ba14aba-cd0c-4f52-e0f6-9ca2a9052d32"
      },
      "outputs": [
        {
          "output_type": "execute_result",
          "data": {
            "text/plain": [
              "                                             cleaned Emotions\n",
              "0  history paisley find dark fossil paisley one a...     Fear\n",
              "1  pastoral wall dense ivy execution zbigniew her...     Fear\n",
              "2  shaving mirror hand hack skin belong child use...     Fear\n",
              "3  taxidermist first hand delicate precise know c...     Fear\n",
              "4  vacate apartment efficient fate eye storm troo...     Fear"
            ],
            "text/html": [
              "\n",
              "  <div id=\"df-d9a745b0-5318-4976-802f-cb55a49ecf38\" class=\"colab-df-container\">\n",
              "    <div>\n",
              "<style scoped>\n",
              "    .dataframe tbody tr th:only-of-type {\n",
              "        vertical-align: middle;\n",
              "    }\n",
              "\n",
              "    .dataframe tbody tr th {\n",
              "        vertical-align: top;\n",
              "    }\n",
              "\n",
              "    .dataframe thead th {\n",
              "        text-align: right;\n",
              "    }\n",
              "</style>\n",
              "<table border=\"1\" class=\"dataframe\">\n",
              "  <thead>\n",
              "    <tr style=\"text-align: right;\">\n",
              "      <th></th>\n",
              "      <th>cleaned</th>\n",
              "      <th>Emotions</th>\n",
              "    </tr>\n",
              "  </thead>\n",
              "  <tbody>\n",
              "    <tr>\n",
              "      <th>0</th>\n",
              "      <td>history paisley find dark fossil paisley one a...</td>\n",
              "      <td>Fear</td>\n",
              "    </tr>\n",
              "    <tr>\n",
              "      <th>1</th>\n",
              "      <td>pastoral wall dense ivy execution zbigniew her...</td>\n",
              "      <td>Fear</td>\n",
              "    </tr>\n",
              "    <tr>\n",
              "      <th>2</th>\n",
              "      <td>shaving mirror hand hack skin belong child use...</td>\n",
              "      <td>Fear</td>\n",
              "    </tr>\n",
              "    <tr>\n",
              "      <th>3</th>\n",
              "      <td>taxidermist first hand delicate precise know c...</td>\n",
              "      <td>Fear</td>\n",
              "    </tr>\n",
              "    <tr>\n",
              "      <th>4</th>\n",
              "      <td>vacate apartment efficient fate eye storm troo...</td>\n",
              "      <td>Fear</td>\n",
              "    </tr>\n",
              "  </tbody>\n",
              "</table>\n",
              "</div>\n",
              "    <div class=\"colab-df-buttons\">\n",
              "\n",
              "  <div class=\"colab-df-container\">\n",
              "    <button class=\"colab-df-convert\" onclick=\"convertToInteractive('df-d9a745b0-5318-4976-802f-cb55a49ecf38')\"\n",
              "            title=\"Convert this dataframe to an interactive table.\"\n",
              "            style=\"display:none;\">\n",
              "\n",
              "  <svg xmlns=\"http://www.w3.org/2000/svg\" height=\"24px\" viewBox=\"0 -960 960 960\">\n",
              "    <path d=\"M120-120v-720h720v720H120Zm60-500h600v-160H180v160Zm220 220h160v-160H400v160Zm0 220h160v-160H400v160ZM180-400h160v-160H180v160Zm440 0h160v-160H620v160ZM180-180h160v-160H180v160Zm440 0h160v-160H620v160Z\"/>\n",
              "  </svg>\n",
              "    </button>\n",
              "\n",
              "  <style>\n",
              "    .colab-df-container {\n",
              "      display:flex;\n",
              "      gap: 12px;\n",
              "    }\n",
              "\n",
              "    .colab-df-convert {\n",
              "      background-color: #E8F0FE;\n",
              "      border: none;\n",
              "      border-radius: 50%;\n",
              "      cursor: pointer;\n",
              "      display: none;\n",
              "      fill: #1967D2;\n",
              "      height: 32px;\n",
              "      padding: 0 0 0 0;\n",
              "      width: 32px;\n",
              "    }\n",
              "\n",
              "    .colab-df-convert:hover {\n",
              "      background-color: #E2EBFA;\n",
              "      box-shadow: 0px 1px 2px rgba(60, 64, 67, 0.3), 0px 1px 3px 1px rgba(60, 64, 67, 0.15);\n",
              "      fill: #174EA6;\n",
              "    }\n",
              "\n",
              "    .colab-df-buttons div {\n",
              "      margin-bottom: 4px;\n",
              "    }\n",
              "\n",
              "    [theme=dark] .colab-df-convert {\n",
              "      background-color: #3B4455;\n",
              "      fill: #D2E3FC;\n",
              "    }\n",
              "\n",
              "    [theme=dark] .colab-df-convert:hover {\n",
              "      background-color: #434B5C;\n",
              "      box-shadow: 0px 1px 3px 1px rgba(0, 0, 0, 0.15);\n",
              "      filter: drop-shadow(0px 1px 2px rgba(0, 0, 0, 0.3));\n",
              "      fill: #FFFFFF;\n",
              "    }\n",
              "  </style>\n",
              "\n",
              "    <script>\n",
              "      const buttonEl =\n",
              "        document.querySelector('#df-d9a745b0-5318-4976-802f-cb55a49ecf38 button.colab-df-convert');\n",
              "      buttonEl.style.display =\n",
              "        google.colab.kernel.accessAllowed ? 'block' : 'none';\n",
              "\n",
              "      async function convertToInteractive(key) {\n",
              "        const element = document.querySelector('#df-d9a745b0-5318-4976-802f-cb55a49ecf38');\n",
              "        const dataTable =\n",
              "          await google.colab.kernel.invokeFunction('convertToInteractive',\n",
              "                                                    [key], {});\n",
              "        if (!dataTable) return;\n",
              "\n",
              "        const docLinkHtml = 'Like what you see? Visit the ' +\n",
              "          '<a target=\"_blank\" href=https://colab.research.google.com/notebooks/data_table.ipynb>data table notebook</a>'\n",
              "          + ' to learn more about interactive tables.';\n",
              "        element.innerHTML = '';\n",
              "        dataTable['output_type'] = 'display_data';\n",
              "        await google.colab.output.renderOutput(dataTable, element);\n",
              "        const docLink = document.createElement('div');\n",
              "        docLink.innerHTML = docLinkHtml;\n",
              "        element.appendChild(docLink);\n",
              "      }\n",
              "    </script>\n",
              "  </div>\n",
              "\n",
              "\n",
              "<div id=\"df-39f91039-23c6-42ba-9b26-f1fc694d6e64\">\n",
              "  <button class=\"colab-df-quickchart\" onclick=\"quickchart('df-39f91039-23c6-42ba-9b26-f1fc694d6e64')\"\n",
              "            title=\"Suggest charts\"\n",
              "            style=\"display:none;\">\n",
              "\n",
              "<svg xmlns=\"http://www.w3.org/2000/svg\" height=\"24px\"viewBox=\"0 0 24 24\"\n",
              "     width=\"24px\">\n",
              "    <g>\n",
              "        <path d=\"M19 3H5c-1.1 0-2 .9-2 2v14c0 1.1.9 2 2 2h14c1.1 0 2-.9 2-2V5c0-1.1-.9-2-2-2zM9 17H7v-7h2v7zm4 0h-2V7h2v10zm4 0h-2v-4h2v4z\"/>\n",
              "    </g>\n",
              "</svg>\n",
              "  </button>\n",
              "\n",
              "<style>\n",
              "  .colab-df-quickchart {\n",
              "      --bg-color: #E8F0FE;\n",
              "      --fill-color: #1967D2;\n",
              "      --hover-bg-color: #E2EBFA;\n",
              "      --hover-fill-color: #174EA6;\n",
              "      --disabled-fill-color: #AAA;\n",
              "      --disabled-bg-color: #DDD;\n",
              "  }\n",
              "\n",
              "  [theme=dark] .colab-df-quickchart {\n",
              "      --bg-color: #3B4455;\n",
              "      --fill-color: #D2E3FC;\n",
              "      --hover-bg-color: #434B5C;\n",
              "      --hover-fill-color: #FFFFFF;\n",
              "      --disabled-bg-color: #3B4455;\n",
              "      --disabled-fill-color: #666;\n",
              "  }\n",
              "\n",
              "  .colab-df-quickchart {\n",
              "    background-color: var(--bg-color);\n",
              "    border: none;\n",
              "    border-radius: 50%;\n",
              "    cursor: pointer;\n",
              "    display: none;\n",
              "    fill: var(--fill-color);\n",
              "    height: 32px;\n",
              "    padding: 0;\n",
              "    width: 32px;\n",
              "  }\n",
              "\n",
              "  .colab-df-quickchart:hover {\n",
              "    background-color: var(--hover-bg-color);\n",
              "    box-shadow: 0 1px 2px rgba(60, 64, 67, 0.3), 0 1px 3px 1px rgba(60, 64, 67, 0.15);\n",
              "    fill: var(--button-hover-fill-color);\n",
              "  }\n",
              "\n",
              "  .colab-df-quickchart-complete:disabled,\n",
              "  .colab-df-quickchart-complete:disabled:hover {\n",
              "    background-color: var(--disabled-bg-color);\n",
              "    fill: var(--disabled-fill-color);\n",
              "    box-shadow: none;\n",
              "  }\n",
              "\n",
              "  .colab-df-spinner {\n",
              "    border: 2px solid var(--fill-color);\n",
              "    border-color: transparent;\n",
              "    border-bottom-color: var(--fill-color);\n",
              "    animation:\n",
              "      spin 1s steps(1) infinite;\n",
              "  }\n",
              "\n",
              "  @keyframes spin {\n",
              "    0% {\n",
              "      border-color: transparent;\n",
              "      border-bottom-color: var(--fill-color);\n",
              "      border-left-color: var(--fill-color);\n",
              "    }\n",
              "    20% {\n",
              "      border-color: transparent;\n",
              "      border-left-color: var(--fill-color);\n",
              "      border-top-color: var(--fill-color);\n",
              "    }\n",
              "    30% {\n",
              "      border-color: transparent;\n",
              "      border-left-color: var(--fill-color);\n",
              "      border-top-color: var(--fill-color);\n",
              "      border-right-color: var(--fill-color);\n",
              "    }\n",
              "    40% {\n",
              "      border-color: transparent;\n",
              "      border-right-color: var(--fill-color);\n",
              "      border-top-color: var(--fill-color);\n",
              "    }\n",
              "    60% {\n",
              "      border-color: transparent;\n",
              "      border-right-color: var(--fill-color);\n",
              "    }\n",
              "    80% {\n",
              "      border-color: transparent;\n",
              "      border-right-color: var(--fill-color);\n",
              "      border-bottom-color: var(--fill-color);\n",
              "    }\n",
              "    90% {\n",
              "      border-color: transparent;\n",
              "      border-bottom-color: var(--fill-color);\n",
              "    }\n",
              "  }\n",
              "</style>\n",
              "\n",
              "  <script>\n",
              "    async function quickchart(key) {\n",
              "      const quickchartButtonEl =\n",
              "        document.querySelector('#' + key + ' button');\n",
              "      quickchartButtonEl.disabled = true;  // To prevent multiple clicks.\n",
              "      quickchartButtonEl.classList.add('colab-df-spinner');\n",
              "      try {\n",
              "        const charts = await google.colab.kernel.invokeFunction(\n",
              "            'suggestCharts', [key], {});\n",
              "      } catch (error) {\n",
              "        console.error('Error during call to suggestCharts:', error);\n",
              "      }\n",
              "      quickchartButtonEl.classList.remove('colab-df-spinner');\n",
              "      quickchartButtonEl.classList.add('colab-df-quickchart-complete');\n",
              "    }\n",
              "    (() => {\n",
              "      let quickchartButtonEl =\n",
              "        document.querySelector('#df-39f91039-23c6-42ba-9b26-f1fc694d6e64 button');\n",
              "      quickchartButtonEl.style.display =\n",
              "        google.colab.kernel.accessAllowed ? 'block' : 'none';\n",
              "    })();\n",
              "  </script>\n",
              "</div>\n",
              "\n",
              "    </div>\n",
              "  </div>\n"
            ],
            "application/vnd.google.colaboratory.intrinsic+json": {
              "type": "dataframe",
              "variable_name": "data",
              "summary": "{\n  \"name\": \"data\",\n  \"rows\": 6346,\n  \"fields\": [\n    {\n      \"column\": \"cleaned\",\n      \"properties\": {\n        \"dtype\": \"string\",\n        \"num_unique_values\": 6331,\n        \"samples\": [\n          \"['bee fly farmer augustan ageperuse virgils golden pagethe story secret wonfrom proteus cyrene sonhow dank seagod show swainmean restore hive againmore briefly slaughter bullbreeds honey bellyful egregious rustic put deatha bull stop breathdispose carcass shedwith a fragrant herb branch spreadand well perform charmsat wait promise swarm wait long god dayimpartial quicken rayevil good alike beheldthe carcassand carcass swelledbig new birth belly heavesbeneath screen scented hop leavespast she doubt bull conceive farmer bid bring hivesto house profit arrivesprepare salt pan red key kettlesweet music shall to make settlebut crown work goesgod stink salute nose honest toiler wherethe gravid mistress carea has busy scene indeed seesbut sign of sound beesworm riper grave show unhidby kindly coffinlidobscene shameless lightseethe insatiate appetitethrough putrid offal abovethe hiss blowfly seek lovewhose offspring supping suptconsume corruption twice corrupt']\",\n          \"gardener unbelieving smile unbelieving smile flit eye come take leave     often think soon return tell truth doubt mind spring day come time time full moon take leave come another visit flower come blush upon branch year year likely take leave come keep illusion awhile send away ungentle haste say leave time accept true let mist tear one moment deepen dark rim eye smile archly like come\",\n          \" 'love until darkness find you song write verse draw my picture hand and go out with friend for the walk now that seems love you curl heart like old mongrel life you lie content by you'\"\n        ],\n        \"semantic_type\": \"\",\n        \"description\": \"\"\n      }\n    },\n    {\n      \"column\": \"Emotions\",\n      \"properties\": {\n        \"dtype\": \"category\",\n        \"num_unique_values\": 5,\n        \"samples\": [\n          \"Sad\",\n          \"Surprise\",\n          \"Angry\"\n        ],\n        \"semantic_type\": \"\",\n        \"description\": \"\"\n      }\n    }\n  ]\n}"
            }
          },
          "metadata": {},
          "execution_count": 2
        }
      ],
      "source": [
        "import pandas as pd\n",
        "data = pd.read_csv(\"/content/drive/MyDrive/BAPEMO_6346.csv\",index_col=0)\n",
        "data.head()"
      ]
    },
    {
      "cell_type": "code",
      "source": [
        "corpus=data['cleaned']\n",
        "lst_corpus = []\n",
        "for string in corpus:\n",
        "    lst_words = string.split()\n",
        "    lst_grams = [\" \".join(lst_words[i:i+1]) for i in range(0, len(lst_words), 1)]\n",
        "    lst_corpus.append(lst_grams)"
      ],
      "metadata": {
        "id": "rUbfLmtx0h2A"
      },
      "execution_count": null,
      "outputs": []
    },
    {
      "cell_type": "code",
      "source": [
        "from tensorflow.keras import models, layers,preprocessing as kprocessing\n",
        "tokenizer =kprocessing.text.Tokenizer(lower=True,split='',oov_token=\"NaN\",)\n",
        "tokenizer.fit_on_texts(lst_corpus)\n",
        "dic_vocabulary = tokenizer.word_index\n",
        "lst_sequences=tokenizer.texts_to_sequences(lst_corpus)"
      ],
      "metadata": {
        "id": "KeMjH4R42DgF"
      },
      "execution_count": null,
      "outputs": []
    },
    {
      "cell_type": "code",
      "source": [
        "X_train_seq =kprocessing.sequence.pad_sequences(lst_sequences,maxlen=100, padding=\"post\", truncating=\"post\")"
      ],
      "metadata": {
        "id": "tBPu_RLr2XTK"
      },
      "execution_count": null,
      "outputs": []
    },
    {
      "cell_type": "code",
      "source": [
        "y=data['Emotions']\n",
        "y=y.map({'Fear':0,'Sad':1,'Happy':2,\n",
        "'Surprise':3,'Angry':4})"
      ],
      "metadata": {
        "id": "tnRbv6Qr2e1S"
      },
      "execution_count": null,
      "outputs": []
    },
    {
      "cell_type": "code",
      "source": [
        "\n",
        "import gensim.downloader\n",
        "glove_vectors = gensim.downloader.load('glove-wiki-gigaword-50')"
      ],
      "metadata": {
        "colab": {
          "base_uri": "https://localhost:8080/"
        },
        "id": "X6uxLR-W2nc5",
        "outputId": "27afbc99-03f3-46cb-ec91-1f66e163df81"
      },
      "execution_count": null,
      "outputs": [
        {
          "output_type": "stream",
          "name": "stdout",
          "text": [
            "[==================================================] 100.0% 66.0/66.0MB downloaded\n"
          ]
        }
      ]
    },
    {
      "cell_type": "code",
      "source": [
        "import numpy as np\n",
        "embeddings = np.zeros((len(dic_vocabulary)+1,\n",
        "50))\n",
        "for word,idx in dic_vocabulary.items():\n",
        "    try:\n",
        "        embeddings[idx]=glove_vectors[word]\n",
        "    except:\n",
        "        pass"
      ],
      "metadata": {
        "id": "p3OlB0wU2ol2"
      },
      "execution_count": null,
      "outputs": []
    },
    {
      "cell_type": "code",
      "source": [
        "from sklearn.model_selection import train_test_split\n",
        "X_train, X_test, y_train, y_test =train_test_split(X_train_seq, y, test_size=0.2,\n",
        "random_state=1000)"
      ],
      "metadata": {
        "id": "0WfsnwOX3Tz5"
      },
      "execution_count": null,
      "outputs": []
    },
    {
      "cell_type": "code",
      "source": [
        "y_train_vec=pd.get_dummies(y_train)\n",
        "y_test_vec=pd.get_dummies(y_test)"
      ],
      "metadata": {
        "id": "kD8qGt2T3c8C"
      },
      "execution_count": null,
      "outputs": []
    },
    {
      "cell_type": "code",
      "source": [
        "from tensorflow.keras import layers\n",
        "from tensorflow.keras.layers import Input\n",
        "input = Input(shape=(100,))\n",
        "x=layers.Embedding(input_dim=embeddings.shape[0],output_dim=embeddings.shape[1],weights=[embeddings],trainable=False)(input)"
      ],
      "metadata": {
        "id": "77M2G2gm3ivP"
      },
      "execution_count": null,
      "outputs": []
    },
    {
      "cell_type": "code",
      "source": [
        "from tensorflow.keras.layers import SimpleRNN,Dense\n",
        "l1=SimpleRNN(50,return_sequences=False,activation='tanh')(x)\n",
        "output=Dense(5,activation='softmax')(l1)\n"
      ],
      "metadata": {
        "id": "MIK-t1Jy3mW-"
      },
      "execution_count": null,
      "outputs": []
    },
    {
      "cell_type": "code",
      "source": [
        "# prompt: GENERATE RNN LAYERS OF 10 LAYERS\n",
        "\n",
        "import pandas as pd\n",
        "from tensorflow.keras import models, layers,preprocessing as kprocessing\n",
        "import gensim.downloader\n",
        "import numpy as np\n",
        "from sklearn.model_selection import train_test_split\n",
        "from tensorflow.keras import layers\n",
        "from tensorflow.keras.layers import Input\n",
        "from tensorflow.keras.layers import SimpleRNN,Dense\n",
        "\n",
        "# ... (Your existing code) ...\n",
        "\n",
        "input = Input(shape=(100,))\n",
        "x=layers.Embedding(input_dim=embeddings.shape[0],output_dim=embeddings.shape[1],weights=[embeddings],trainable=False)(input)\n",
        "\n",
        "# Create 10 RNN layers\n",
        "for i in range(10):\n",
        "    x = SimpleRNN(50, return_sequences=True, activation='tanh')(x)  # return_sequences=True for all except the last layer\n",
        "\n",
        "# Last RNN layer without return_sequences\n",
        "x = SimpleRNN(50, return_sequences=False, activation='tanh')(x)\n",
        "\n",
        "output=Dense(5,activation='softmax')(x)"
      ],
      "metadata": {
        "id": "nXGClIJk6CYv"
      },
      "execution_count": null,
      "outputs": []
    },
    {
      "cell_type": "code",
      "source": [
        "model=models.Model(input,output)\n"
      ],
      "metadata": {
        "id": "LPTw_B_P3ucu"
      },
      "execution_count": null,
      "outputs": []
    },
    {
      "cell_type": "code",
      "source": [
        "model.compile(loss='CategoricalCrossentropy',\n",
        "optimizer='adam',metrics=['accuracy'])\n",
        "model.fit(X_train,y_train_vec,\n",
        "batch_size=100,epochs=30,validation_split=0.1)"
      ],
      "metadata": {
        "colab": {
          "base_uri": "https://localhost:8080/"
        },
        "id": "1PVooSa83w32",
        "outputId": "eb24751b-cb4a-4a27-a883-3278025c33a3"
      },
      "execution_count": null,
      "outputs": [
        {
          "output_type": "stream",
          "name": "stdout",
          "text": [
            "Epoch 1/30\n",
            "\u001b[1m46/46\u001b[0m \u001b[32m━━━━━━━━━━━━━━━━━━━━\u001b[0m\u001b[37m\u001b[0m \u001b[1m3s\u001b[0m 31ms/step - accuracy: 0.4221 - loss: 1.3207 - val_accuracy: 0.3780 - val_loss: 1.3223\n",
            "Epoch 2/30\n",
            "\u001b[1m46/46\u001b[0m \u001b[32m━━━━━━━━━━━━━━━━━━━━\u001b[0m\u001b[37m\u001b[0m \u001b[1m3s\u001b[0m 36ms/step - accuracy: 0.4424 - loss: 1.2790 - val_accuracy: 0.2028 - val_loss: 2.0278\n",
            "Epoch 3/30\n",
            "\u001b[1m46/46\u001b[0m \u001b[32m━━━━━━━━━━━━━━━━━━━━\u001b[0m\u001b[37m\u001b[0m \u001b[1m3s\u001b[0m 44ms/step - accuracy: 0.2438 - loss: 1.7453 - val_accuracy: 0.2795 - val_loss: 1.5457\n",
            "Epoch 4/30\n",
            "\u001b[1m46/46\u001b[0m \u001b[32m━━━━━━━━━━━━━━━━━━━━\u001b[0m\u001b[37m\u001b[0m \u001b[1m2s\u001b[0m 25ms/step - accuracy: 0.3585 - loss: 1.4450 - val_accuracy: 0.3819 - val_loss: 1.4241\n",
            "Epoch 5/30\n",
            "\u001b[1m46/46\u001b[0m \u001b[32m━━━━━━━━━━━━━━━━━━━━\u001b[0m\u001b[37m\u001b[0m \u001b[1m1s\u001b[0m 25ms/step - accuracy: 0.3834 - loss: 1.4026 - val_accuracy: 0.3740 - val_loss: 1.4109\n",
            "Epoch 6/30\n",
            "\u001b[1m46/46\u001b[0m \u001b[32m━━━━━━━━━━━━━━━━━━━━\u001b[0m\u001b[37m\u001b[0m \u001b[1m1s\u001b[0m 25ms/step - accuracy: 0.4568 - loss: 1.2978 - val_accuracy: 0.3602 - val_loss: 1.3916\n",
            "Epoch 7/30\n",
            "\u001b[1m46/46\u001b[0m \u001b[32m━━━━━━━━━━━━━━━━━━━━\u001b[0m\u001b[37m\u001b[0m \u001b[1m1s\u001b[0m 25ms/step - accuracy: 0.4392 - loss: 1.2877 - val_accuracy: 0.4016 - val_loss: 1.3074\n",
            "Epoch 8/30\n",
            "\u001b[1m46/46\u001b[0m \u001b[32m━━━━━━━━━━━━━━━━━━━━\u001b[0m\u001b[37m\u001b[0m \u001b[1m1s\u001b[0m 25ms/step - accuracy: 0.4621 - loss: 1.2448 - val_accuracy: 0.4134 - val_loss: 1.2819\n",
            "Epoch 9/30\n",
            "\u001b[1m46/46\u001b[0m \u001b[32m━━━━━━━━━━━━━━━━━━━━\u001b[0m\u001b[37m\u001b[0m \u001b[1m1s\u001b[0m 26ms/step - accuracy: 0.4218 - loss: 1.3475 - val_accuracy: 0.2323 - val_loss: 1.6313\n",
            "Epoch 10/30\n",
            "\u001b[1m46/46\u001b[0m \u001b[32m━━━━━━━━━━━━━━━━━━━━\u001b[0m\u001b[37m\u001b[0m \u001b[1m1s\u001b[0m 25ms/step - accuracy: 0.3083 - loss: 1.5459 - val_accuracy: 0.2795 - val_loss: 1.5501\n",
            "Epoch 11/30\n",
            "\u001b[1m46/46\u001b[0m \u001b[32m━━━━━━━━━━━━━━━━━━━━\u001b[0m\u001b[37m\u001b[0m \u001b[1m1s\u001b[0m 25ms/step - accuracy: 0.3388 - loss: 1.4746 - val_accuracy: 0.2913 - val_loss: 1.5383\n",
            "Epoch 12/30\n",
            "\u001b[1m46/46\u001b[0m \u001b[32m━━━━━━━━━━━━━━━━━━━━\u001b[0m\u001b[37m\u001b[0m \u001b[1m2s\u001b[0m 44ms/step - accuracy: 0.3394 - loss: 1.4580 - val_accuracy: 0.3031 - val_loss: 1.5328\n",
            "Epoch 13/30\n",
            "\u001b[1m46/46\u001b[0m \u001b[32m━━━━━━━━━━━━━━━━━━━━\u001b[0m\u001b[37m\u001b[0m \u001b[1m2s\u001b[0m 38ms/step - accuracy: 0.3540 - loss: 1.4516 - val_accuracy: 0.2972 - val_loss: 1.5339\n",
            "Epoch 14/30\n",
            "\u001b[1m46/46\u001b[0m \u001b[32m━━━━━━━━━━━━━━━━━━━━\u001b[0m\u001b[37m\u001b[0m \u001b[1m1s\u001b[0m 25ms/step - accuracy: 0.3565 - loss: 1.4376 - val_accuracy: 0.3189 - val_loss: 1.5289\n",
            "Epoch 15/30\n",
            "\u001b[1m46/46\u001b[0m \u001b[32m━━━━━━━━━━━━━━━━━━━━\u001b[0m\u001b[37m\u001b[0m \u001b[1m1s\u001b[0m 25ms/step - accuracy: 0.3711 - loss: 1.4303 - val_accuracy: 0.3051 - val_loss: 1.5235\n",
            "Epoch 16/30\n",
            "\u001b[1m46/46\u001b[0m \u001b[32m━━━━━━━━━━━━━━━━━━━━\u001b[0m\u001b[37m\u001b[0m \u001b[1m1s\u001b[0m 27ms/step - accuracy: 0.3775 - loss: 1.4160 - val_accuracy: 0.3209 - val_loss: 1.5190\n",
            "Epoch 17/30\n",
            "\u001b[1m46/46\u001b[0m \u001b[32m━━━━━━━━━━━━━━━━━━━━\u001b[0m\u001b[37m\u001b[0m \u001b[1m1s\u001b[0m 25ms/step - accuracy: 0.3621 - loss: 1.4314 - val_accuracy: 0.3346 - val_loss: 1.5097\n",
            "Epoch 18/30\n",
            "\u001b[1m46/46\u001b[0m \u001b[32m━━━━━━━━━━━━━━━━━━━━\u001b[0m\u001b[37m\u001b[0m \u001b[1m1s\u001b[0m 24ms/step - accuracy: 0.3705 - loss: 1.4093 - val_accuracy: 0.3189 - val_loss: 1.5159\n",
            "Epoch 19/30\n",
            "\u001b[1m46/46\u001b[0m \u001b[32m━━━━━━━━━━━━━━━━━━━━\u001b[0m\u001b[37m\u001b[0m \u001b[1m1s\u001b[0m 25ms/step - accuracy: 0.3788 - loss: 1.3936 - val_accuracy: 0.3110 - val_loss: 1.4980\n",
            "Epoch 20/30\n",
            "\u001b[1m46/46\u001b[0m \u001b[32m━━━━━━━━━━━━━━━━━━━━\u001b[0m\u001b[37m\u001b[0m \u001b[1m1s\u001b[0m 25ms/step - accuracy: 0.3817 - loss: 1.3685 - val_accuracy: 0.3327 - val_loss: 1.4905\n",
            "Epoch 21/30\n",
            "\u001b[1m46/46\u001b[0m \u001b[32m━━━━━━━━━━━━━━━━━━━━\u001b[0m\u001b[37m\u001b[0m \u001b[1m1s\u001b[0m 27ms/step - accuracy: 0.3901 - loss: 1.3727 - val_accuracy: 0.3169 - val_loss: 1.4935\n",
            "Epoch 22/30\n",
            "\u001b[1m46/46\u001b[0m \u001b[32m━━━━━━━━━━━━━━━━━━━━\u001b[0m\u001b[37m\u001b[0m \u001b[1m2s\u001b[0m 45ms/step - accuracy: 0.3915 - loss: 1.3953 - val_accuracy: 0.3524 - val_loss: 1.4212\n",
            "Epoch 23/30\n",
            "\u001b[1m46/46\u001b[0m \u001b[32m━━━━━━━━━━━━━━━━━━━━\u001b[0m\u001b[37m\u001b[0m \u001b[1m2s\u001b[0m 48ms/step - accuracy: 0.4106 - loss: 1.3668 - val_accuracy: 0.3346 - val_loss: 1.5048\n",
            "Epoch 24/30\n",
            "\u001b[1m46/46\u001b[0m \u001b[32m━━━━━━━━━━━━━━━━━━━━\u001b[0m\u001b[37m\u001b[0m \u001b[1m1s\u001b[0m 25ms/step - accuracy: 0.3893 - loss: 1.3838 - val_accuracy: 0.3248 - val_loss: 1.4770\n",
            "Epoch 25/30\n",
            "\u001b[1m46/46\u001b[0m \u001b[32m━━━━━━━━━━━━━━━━━━━━\u001b[0m\u001b[37m\u001b[0m \u001b[1m1s\u001b[0m 25ms/step - accuracy: 0.3916 - loss: 1.3637 - val_accuracy: 0.3563 - val_loss: 1.4727\n",
            "Epoch 26/30\n",
            "\u001b[1m46/46\u001b[0m \u001b[32m━━━━━━━━━━━━━━━━━━━━\u001b[0m\u001b[37m\u001b[0m \u001b[1m1s\u001b[0m 25ms/step - accuracy: 0.4169 - loss: 1.3182 - val_accuracy: 0.3799 - val_loss: 1.3838\n",
            "Epoch 27/30\n",
            "\u001b[1m46/46\u001b[0m \u001b[32m━━━━━━━━━━━━━━━━━━━━\u001b[0m\u001b[37m\u001b[0m \u001b[1m1s\u001b[0m 25ms/step - accuracy: 0.4319 - loss: 1.3230 - val_accuracy: 0.3780 - val_loss: 1.4153\n",
            "Epoch 28/30\n",
            "\u001b[1m46/46\u001b[0m \u001b[32m━━━━━━━━━━━━━━━━━━━━\u001b[0m\u001b[37m\u001b[0m \u001b[1m1s\u001b[0m 25ms/step - accuracy: 0.4477 - loss: 1.2813 - val_accuracy: 0.3425 - val_loss: 1.4192\n",
            "Epoch 29/30\n",
            "\u001b[1m46/46\u001b[0m \u001b[32m━━━━━━━━━━━━━━━━━━━━\u001b[0m\u001b[37m\u001b[0m \u001b[1m1s\u001b[0m 25ms/step - accuracy: 0.4160 - loss: 1.3501 - val_accuracy: 0.3819 - val_loss: 1.4119\n",
            "Epoch 30/30\n",
            "\u001b[1m46/46\u001b[0m \u001b[32m━━━━━━━━━━━━━━━━━━━━\u001b[0m\u001b[37m\u001b[0m \u001b[1m1s\u001b[0m 25ms/step - accuracy: 0.4432 - loss: 1.3028 - val_accuracy: 0.4114 - val_loss: 1.3811\n"
          ]
        },
        {
          "output_type": "execute_result",
          "data": {
            "text/plain": [
              "<keras.src.callbacks.history.History at 0x7c81af320460>"
            ]
          },
          "metadata": {},
          "execution_count": 23
        }
      ]
    },
    {
      "cell_type": "code",
      "source": [
        "scores = model.evaluate(X_test, y_test_vec,\n",
        "verbose=0)\n",
        "print(\"Accuracy: %.2f%%\" % (scores[1]*100))\n",
        "print(\"Loss:%.4f%%\"% scores[0])"
      ],
      "metadata": {
        "colab": {
          "base_uri": "https://localhost:8080/"
        },
        "id": "7wfYHIZu4a_c",
        "outputId": "035e6807-80c2-4a8b-93c8-7b20c37cdac4"
      },
      "execution_count": null,
      "outputs": [
        {
          "output_type": "stream",
          "name": "stdout",
          "text": [
            "Accuracy: 39.53%\n",
            "Loss:1.3372%\n"
          ]
        }
      ]
    },
    {
      "cell_type": "code",
      "source": [
        "res=model.predict(X_test)"
      ],
      "metadata": {
        "colab": {
          "base_uri": "https://localhost:8080/"
        },
        "id": "N_uCpabi4fe8",
        "outputId": "1335bc36-66ce-4c81-e5d1-0d45cd6bdbc6"
      },
      "execution_count": null,
      "outputs": [
        {
          "output_type": "stream",
          "name": "stdout",
          "text": [
            "\u001b[1m40/40\u001b[0m \u001b[32m━━━━━━━━━━━━━━━━━━━━\u001b[0m\u001b[37m\u001b[0m \u001b[1m1s\u001b[0m 9ms/step\n"
          ]
        }
      ]
    },
    {
      "cell_type": "code",
      "source": [
        "import numpy as np\n",
        "test_predictions = np.argmax(res,axis=1)\n"
      ],
      "metadata": {
        "id": "NN2Kd0N44ik9"
      },
      "execution_count": null,
      "outputs": []
    },
    {
      "cell_type": "code",
      "source": [
        "from sklearn.metrics import confusion_matrix\n",
        "cm = confusion_matrix(y_test,test_predictions)\n",
        "print(cm)"
      ],
      "metadata": {
        "colab": {
          "base_uri": "https://localhost:8080/"
        },
        "id": "eCI7Kytj4lr0",
        "outputId": "d9f914f3-6844-491b-ddbd-03ef14bc2149"
      },
      "execution_count": null,
      "outputs": [
        {
          "output_type": "stream",
          "name": "stdout",
          "text": [
            "[[305  82   6   5   0]\n",
            " [226  55   4   3   2]\n",
            " [ 66  12  72  12  16]\n",
            " [ 98  12  46  27  18]\n",
            " [ 88   5  54  15  41]]\n"
          ]
        }
      ]
    },
    {
      "cell_type": "code",
      "source": [
        "from sklearn.metrics import classification_report\n",
        "# Print the classification report\n",
        "print(classification_report(y_test,\n",
        "test_predictions))"
      ],
      "metadata": {
        "colab": {
          "base_uri": "https://localhost:8080/"
        },
        "id": "BB-PbOHf4qnL",
        "outputId": "1896a8dc-f6bd-4149-f979-300905b5a2cc"
      },
      "execution_count": null,
      "outputs": [
        {
          "output_type": "stream",
          "name": "stdout",
          "text": [
            "              precision    recall  f1-score   support\n",
            "\n",
            "           0       0.39      0.77      0.52       398\n",
            "           1       0.33      0.19      0.24       290\n",
            "           2       0.40      0.40      0.40       178\n",
            "           3       0.44      0.13      0.21       201\n",
            "           4       0.53      0.20      0.29       203\n",
            "\n",
            "    accuracy                           0.39      1270\n",
            "   macro avg       0.42      0.34      0.33      1270\n",
            "weighted avg       0.41      0.39      0.35      1270\n",
            "\n"
          ]
        }
      ]
    }
  ]
}