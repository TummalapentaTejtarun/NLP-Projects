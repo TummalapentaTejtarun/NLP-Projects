{
  "cells": [
    {
      "cell_type": "code",
      "source": [
        "from google.colab import drive\n",
        "drive.mount('/content/drive')"
      ],
      "metadata": {
        "colab": {
          "base_uri": "https://localhost:8080/"
        },
        "id": "x3c7mMw8-dJI",
        "outputId": "b9b4158e-2e4d-4bfb-9bab-5a543082c2ce"
      },
      "execution_count": null,
      "outputs": [
        {
          "output_type": "stream",
          "name": "stdout",
          "text": [
            "Drive already mounted at /content/drive; to attempt to forcibly remount, call drive.mount(\"/content/drive\", force_remount=True).\n"
          ]
        }
      ]
    },
    {
      "cell_type": "code",
      "execution_count": null,
      "metadata": {
        "id": "H2v8NlaFKOSw"
      },
      "outputs": [],
      "source": [
        "import tensorflow as tf\n",
        "import pandas as pd\n",
        "import numpy as np"
      ]
    },
    {
      "cell_type": "code",
      "source": [
        "with open('/content/drive/MyDrive/NLP DATASETS/robert_frost.txt') as story:\n",
        "  story_data = story.read()\n",
        "\n",
        "print(story_data)"
      ],
      "metadata": {
        "colab": {
          "base_uri": "https://localhost:8080/"
        },
        "id": "HJIpzzSWfN1y",
        "outputId": "c851f928-928c-47f7-d8be-8118aa385d82"
      },
      "execution_count": null,
      "outputs": [
        {
          "output_type": "stream",
          "name": "stdout",
          "text": [
            "Two roads diverged in a yellow wood,\n",
            "And sorry I could not travel both\n",
            "And be one traveler, long I stood\n",
            "And looked down one as far as I could\n",
            "To where it bent in the undergrowth;\n",
            "\n",
            "Then took the other, as just as fair,\n",
            "And having perhaps the better claim,\n",
            "Because it was grassy and wanted wear;\n",
            "Though as for that the passing there\n",
            "Had worn them really about the same,\n",
            "\n",
            "And both that morning equally lay\n",
            "In leaves no step had trodden black.\n",
            "Oh, I kept the first for another day!\n",
            "Yet knowing how way leads on to way,\n",
            "I doubted if I should ever come back.\n",
            "\n",
            "I shall be telling this with a sigh\n",
            "Somewhere ages and ages hence:\n",
            "Two roads diverged in a wood, and I—\n",
            "I took the one less traveled by,\n",
            "And that has made all the difference.\n",
            "\n",
            "Whose woods these are I think I know.   \n",
            "His house is in the village though;   \n",
            "He will not see me stopping here   \n",
            "To watch his woods fill up with snow.   \n",
            "\n",
            "My little horse must think it queer   \n",
            "To stop without a farmhouse near   \n",
            "Between the woods and frozen lake   \n",
            "The darkest evening of the year.   \n",
            "\n",
            "He gives his harness bells a shake   \n",
            "To ask if there is some mistake.   \n",
            "The only other sound’s the sweep   \n",
            "Of easy wind and downy flake.   \n",
            "\n",
            "The woods are lovely, dark and deep,   \n",
            "But I have promises to keep,   \n",
            "And miles to go before I sleep,   \n",
            "And miles to go before I sleep.\n",
            "\n",
            "When I see birches bend to left and right\n",
            "Across the lines of straighter darker trees,\n",
            "I like to think some boy's been swinging them.\n",
            "But swinging doesn't bend them down to stay\n",
            "As ice-storms do. Often you must have seen them\n",
            "Loaded with ice a sunny winter morning\n",
            "After a rain. They click upon themselves\n",
            "As the breeze rises, and turn many-colored\n",
            "As the stir cracks and crazes their enamel.\n",
            "Soon the sun's warmth makes them shed crystal shells\n",
            "Shattering and avalanching on the snow-crust—\n",
            "Such heaps of broken glass to sweep away\n",
            "You'd think the inner dome of heaven had fallen.\n",
            "They are dragged to the withered bracken by the load,\n",
            "And they seem not to break; though once they are bowed\n",
            "So low for long, they never right themselves:\n",
            "You may see their trunks arching in the woods\n",
            "Years afterwards, trailing their leaves on the ground\n",
            "Like girls on hands and knees that throw their hair\n",
            "Before them over their heads to dry in the sun.\n",
            "But I was going to say when Truth broke in\n",
            "With all her matter-of-fact about the ice-storm\n",
            "I should prefer to have some boy bend them\n",
            "As he went out and in to fetch the cows—\n",
            "Some boy too far from town to learn baseball,\n",
            "Whose only play was what he found himself,\n",
            "Summer or winter, and could play alone.\n",
            "One by one he subdued his father's trees\n",
            "By riding them down over and over again\n",
            "Until he took the stiffness out of them,\n",
            "And not one but hung limp, not one was left\n",
            "For him to conquer. He learned all there was\n",
            "To learn about not launching out too soon\n",
            "And so not carrying the tree away\n",
            "Clear to the ground. He always kept his poise\n",
            "To the top branches, climbing carefully\n",
            "With the same pains you use to fill a cup\n",
            "Up to the brim, and even above the brim.\n",
            "Then he flung outward, feet first, with a swish,\n",
            "Kicking his way down through the air to the ground.\n",
            "So was I once myself a swinger of birches.\n",
            "And so I dream of going back to be.\n",
            "It's when I'm weary of considerations,\n",
            "And life is too much like a pathless wood\n",
            "Where your face burns and tickles with the cobwebs\n",
            "Broken across it, and one eye is weeping\n",
            "From a twig's having lashed across it open.\n",
            "I'd like to get away from earth awhile\n",
            "And then come back to it and begin over.\n",
            "May no fate willfully misunderstand me\n",
            "And half grant what I wish and snatch me away\n",
            "Not to return. Earth's the right place for love:\n",
            "I don't know where it's likely to go better.\n",
            "I'd like to go by climbing a birch tree,\n",
            "And climb black branches up a snow-white trunk\n",
            "Toward heaven, till the tree could bear no more,\n",
            "But dipped its top and set me down again.\n",
            "That would be good both going and coming back.\n",
            "One could do worse than be a swinger of birches.\n",
            "\n",
            "Before man came to blow it right\n",
            "     The wind once blew itself untaught,\n",
            "And did its loudest day and night\n",
            "     In any rough place where it caught.\n",
            " \n",
            "Man came to tell it what was wrong:\n",
            "     It hadn’t found the place to blow;\n",
            "It blew too hard—the aim was song.\n",
            "     And listen—how it ought to go!\n",
            " \n",
            "He took a little in his mouth,\n",
            "     And held it long enough for north\n",
            "To be converted into south,\n",
            "     And then by measure blew it forth.\n",
            " \n",
            "By measure. It was word and note,\n",
            "     The wind the wind had meant to be—\n",
            "A little through the lips and throat.\n",
            "     The aim was song—the wind could see.\n",
            "\n",
            "The city had withdrawn into itself\n",
            "And left at last the country to the country;\n",
            "When between whirls of snow not come to lie\n",
            "And whirls of foliage not yet laid, there drove\n",
            "A stranger to our yard, who looked the city,\n",
            "Yet did in country fashion in that there\n",
            "He sat and waited till he drew us out\n",
            "A-buttoning coats to ask him who he was.\n",
            "He proved to be the city come again\n",
            "To look for something it had left behind\n",
            "And could not do without and keep its Christmas.\n",
            "He asked if I would sell my Christmas trees;\n",
            "My woods—the young fir balsams like a place\n",
            "Where houses all are churches and have spires.\n",
            "I hadn’t thought of them as Christmas Trees.\n",
            "I doubt if I was tempted for a moment\n",
            "To sell them off their feet to go in cars\n",
            "And leave the slope behind the house all bare,\n",
            "Where the sun shines now no warmer than the moon.\n",
            "I’d hate to have them know it if I was.\n",
            "Yet more I’d hate to hold my trees except\n",
            "As others hold theirs or refuse for them,\n",
            "Beyond the time of profitable growth,\n",
            "The trial by market everything must come to.\n",
            "I dallied so much with the thought of selling.\n",
            "Then whether from mistaken courtesy\n",
            "And fear of seeming short of speech, or whether\n",
            "From hope of hearing good of what was mine, I said,\n",
            "“There aren’t enough to be worth while.”\n",
            "“I could soon tell how many they would cut,\n",
            "You let me look them over.”\n",
            "\n",
            "                                                     “You could look.\n",
            "But don’t expect I’m going to let you have them.”\n",
            "Pasture they spring in, some in clumps too close\n",
            "That lop each other of boughs, but not a few\n",
            "Quite solitary and having equal boughs\n",
            "All round and round. The latter he nodded “Yes” to,\n",
            "Or paused to say beneath some lovelier one,\n",
            "With a buyer’s moderation, “That would do.”\n",
            "I thought so too, but wasn’t there to say so.\n",
            "We climbed the pasture on the south, crossed over,\n",
            "And came down on the north. He said, “A thousand.”\n",
            "\n",
            "“A thousand Christmas trees!—at what apiece?”\n",
            "\n",
            "He felt some need of softening that to me:\n",
            "“A thousand trees would come to thirty dollars.”\n",
            "\n",
            "Then I was certain I had never meant\n",
            "To let him have them. Never show surprise!\n",
            "But thirty dollars seemed so small beside\n",
            "The extent of pasture I should strip, three cents\n",
            "(For that was all they figured out apiece),\n",
            "Three cents so small beside the dollar friends\n",
            "I should be writing to within the hour\n",
            "Would pay in cities for good trees like those,\n",
            "Regular vestry-trees whole Sunday Schools\n",
            "Could hang enough on to pick off enough.\n",
            "A thousand Christmas trees I didn’t know I had!\n",
            "Worth three cents more to give away than sell,\n",
            "As may be shown by a simple calculation.\n",
            "Too bad I couldn’t lay one in a letter.\n",
            "I can’t help wishing I could send you one,\n",
            "In wishing you herewith a Merry Christmas.\n"
          ]
        }
      ]
    },
    {
      "cell_type": "code",
      "source": [
        "import re"
      ],
      "metadata": {
        "id": "AmpGQ_z8fNyW"
      },
      "execution_count": null,
      "outputs": []
    },
    {
      "cell_type": "code",
      "source": [
        "def clean_text(text):\n",
        "  text = re.sub(r',', '', text)\n",
        "  text = re.sub(r'\\'', '',  text)\n",
        "  text = re.sub(r'\\\"', '', text)\n",
        "  text = re.sub(r'\\(', '', text)\n",
        "  text = re.sub(r'\\)', '', text)\n",
        "  text = re.sub(r'\\n', '', text)\n",
        "  text = re.sub(r'“', '', text)\n",
        "  text = re.sub(r'”', '', text)\n",
        "  text = re.sub(r'’', '', text)\n",
        "  text = re.sub(r'\\.', '', text)\n",
        "  text = re.sub(r';', '', text)\n",
        "  text = re.sub(r':', '', text)\n",
        "  text = re.sub(r'\\-', '', text)\n",
        "\n",
        "  return text\n"
      ],
      "metadata": {
        "id": "Z9Cnr7pnfNvz"
      },
      "execution_count": null,
      "outputs": []
    },
    {
      "cell_type": "code",
      "source": [
        "lower_data = story_data.lower()           # Converting the string to lower case to get uniformity\n",
        "\n",
        "split_data = lower_data.splitlines()      # Splitting the data to get every line seperately but this will give the list of uncleaned data\n",
        "\n",
        "print(split_data)\n",
        "\n",
        "final = ''                                # initiating a argument with blank string to hold the values of final cleaned data\n",
        "\n",
        "for line in split_data:\n",
        "  line = clean_text(line)\n",
        "  final += '\\n' + line\n",
        "\n",
        "print(final)"
      ],
      "metadata": {
        "colab": {
          "base_uri": "https://localhost:8080/"
        },
        "id": "x8ff07xrfNs2",
        "outputId": "63a8e014-d9b6-4226-864d-afa863fd0a83"
      },
      "execution_count": null,
      "outputs": [
        {
          "output_type": "stream",
          "name": "stdout",
          "text": [
            "['two roads diverged in a yellow wood,', 'and sorry i could not travel both', 'and be one traveler, long i stood', 'and looked down one as far as i could', 'to where it bent in the undergrowth;', '', 'then took the other, as just as fair,', 'and having perhaps the better claim,', 'because it was grassy and wanted wear;', 'though as for that the passing there', 'had worn them really about the same,', '', 'and both that morning equally lay', 'in leaves no step had trodden black.', 'oh, i kept the first for another day!', 'yet knowing how way leads on to way,', 'i doubted if i should ever come back.', '', 'i shall be telling this with a sigh', 'somewhere ages and ages hence:', 'two roads diverged in a wood, and i—', 'i took the one less traveled by,', 'and that has made all the difference.', '', 'whose woods these are i think i know.   ', 'his house is in the village though;   ', 'he will not see me stopping here   ', 'to watch his woods fill up with snow.   ', '', 'my little horse must think it queer   ', 'to stop without a farmhouse near   ', 'between the woods and frozen lake   ', 'the darkest evening of the year.   ', '', 'he gives his harness bells a shake   ', 'to ask if there is some mistake.   ', 'the only other sound’s the sweep   ', 'of easy wind and downy flake.   ', '', 'the woods are lovely, dark and deep,   ', 'but i have promises to keep,   ', 'and miles to go before i sleep,   ', 'and miles to go before i sleep.', '', 'when i see birches bend to left and right', 'across the lines of straighter darker trees,', \"i like to think some boy's been swinging them.\", \"but swinging doesn't bend them down to stay\", 'as ice-storms do. often you must have seen them', 'loaded with ice a sunny winter morning', 'after a rain. they click upon themselves', 'as the breeze rises, and turn many-colored', 'as the stir cracks and crazes their enamel.', \"soon the sun's warmth makes them shed crystal shells\", 'shattering and avalanching on the snow-crust—', 'such heaps of broken glass to sweep away', \"you'd think the inner dome of heaven had fallen.\", 'they are dragged to the withered bracken by the load,', 'and they seem not to break; though once they are bowed', 'so low for long, they never right themselves:', 'you may see their trunks arching in the woods', 'years afterwards, trailing their leaves on the ground', 'like girls on hands and knees that throw their hair', 'before them over their heads to dry in the sun.', 'but i was going to say when truth broke in', 'with all her matter-of-fact about the ice-storm', 'i should prefer to have some boy bend them', 'as he went out and in to fetch the cows—', 'some boy too far from town to learn baseball,', 'whose only play was what he found himself,', 'summer or winter, and could play alone.', \"one by one he subdued his father's trees\", 'by riding them down over and over again', 'until he took the stiffness out of them,', 'and not one but hung limp, not one was left', 'for him to conquer. he learned all there was', 'to learn about not launching out too soon', 'and so not carrying the tree away', 'clear to the ground. he always kept his poise', 'to the top branches, climbing carefully', 'with the same pains you use to fill a cup', 'up to the brim, and even above the brim.', 'then he flung outward, feet first, with a swish,', 'kicking his way down through the air to the ground.', 'so was i once myself a swinger of birches.', 'and so i dream of going back to be.', \"it's when i'm weary of considerations,\", 'and life is too much like a pathless wood', 'where your face burns and tickles with the cobwebs', 'broken across it, and one eye is weeping', \"from a twig's having lashed across it open.\", \"i'd like to get away from earth awhile\", 'and then come back to it and begin over.', 'may no fate willfully misunderstand me', 'and half grant what i wish and snatch me away', \"not to return. earth's the right place for love:\", \"i don't know where it's likely to go better.\", \"i'd like to go by climbing a birch tree,\", 'and climb black branches up a snow-white trunk', 'toward heaven, till the tree could bear no more,', 'but dipped its top and set me down again.', 'that would be good both going and coming back.', 'one could do worse than be a swinger of birches.', '', 'before man came to blow it right', '     the wind once blew itself untaught,', 'and did its loudest day and night', '     in any rough place where it caught.', ' ', 'man came to tell it what was wrong:', '     it hadn’t found the place to blow;', 'it blew too hard—the aim was song.', '     and listen—how it ought to go!', ' ', 'he took a little in his mouth,', '     and held it long enough for north', 'to be converted into south,', '     and then by measure blew it forth.', ' ', 'by measure. it was word and note,', '     the wind the wind had meant to be—', 'a little through the lips and throat.', '     the aim was song—the wind could see.', '', 'the city had withdrawn into itself', 'and left at last the country to the country;', 'when between whirls of snow not come to lie', 'and whirls of foliage not yet laid, there drove', 'a stranger to our yard, who looked the city,', 'yet did in country fashion in that there', 'he sat and waited till he drew us out', 'a-buttoning coats to ask him who he was.', 'he proved to be the city come again', 'to look for something it had left behind', 'and could not do without and keep its christmas.', 'he asked if i would sell my christmas trees;', 'my woods—the young fir balsams like a place', 'where houses all are churches and have spires.', 'i hadn’t thought of them as christmas trees.', 'i doubt if i was tempted for a moment', 'to sell them off their feet to go in cars', 'and leave the slope behind the house all bare,', 'where the sun shines now no warmer than the moon.', 'i’d hate to have them know it if i was.', 'yet more i’d hate to hold my trees except', 'as others hold theirs or refuse for them,', 'beyond the time of profitable growth,', 'the trial by market everything must come to.', 'i dallied so much with the thought of selling.', 'then whether from mistaken courtesy', 'and fear of seeming short of speech, or whether', 'from hope of hearing good of what was mine, i said,', '“there aren’t enough to be worth while.”', '“i could soon tell how many they would cut,', 'you let me look them over.”', '', '                                                     “you could look.', 'but don’t expect i’m going to let you have them.”', 'pasture they spring in, some in clumps too close', 'that lop each other of boughs, but not a few', 'quite solitary and having equal boughs', 'all round and round. the latter he nodded “yes” to,', 'or paused to say beneath some lovelier one,', 'with a buyer’s moderation, “that would do.”', 'i thought so too, but wasn’t there to say so.', 'we climbed the pasture on the south, crossed over,', 'and came down on the north. he said, “a thousand.”', '', '“a thousand christmas trees!—at what apiece?”', '', 'he felt some need of softening that to me:', '“a thousand trees would come to thirty dollars.”', '', 'then i was certain i had never meant', 'to let him have them. never show surprise!', 'but thirty dollars seemed so small beside', 'the extent of pasture i should strip, three cents', '(for that was all they figured out apiece),', 'three cents so small beside the dollar friends', 'i should be writing to within the hour', 'would pay in cities for good trees like those,', 'regular vestry-trees whole sunday schools', 'could hang enough on to pick off enough.', 'a thousand christmas trees i didn’t know i had!', 'worth three cents more to give away than sell,', 'as may be shown by a simple calculation.', 'too bad i couldn’t lay one in a letter.', 'i can’t help wishing i could send you one,', 'in wishing you herewith a merry christmas.']\n",
            "\n",
            "two roads diverged in a yellow wood\n",
            "and sorry i could not travel both\n",
            "and be one traveler long i stood\n",
            "and looked down one as far as i could\n",
            "to where it bent in the undergrowth\n",
            "\n",
            "then took the other as just as fair\n",
            "and having perhaps the better claim\n",
            "because it was grassy and wanted wear\n",
            "though as for that the passing there\n",
            "had worn them really about the same\n",
            "\n",
            "and both that morning equally lay\n",
            "in leaves no step had trodden black\n",
            "oh i kept the first for another day!\n",
            "yet knowing how way leads on to way\n",
            "i doubted if i should ever come back\n",
            "\n",
            "i shall be telling this with a sigh\n",
            "somewhere ages and ages hence\n",
            "two roads diverged in a wood and i—\n",
            "i took the one less traveled by\n",
            "and that has made all the difference\n",
            "\n",
            "whose woods these are i think i know   \n",
            "his house is in the village though   \n",
            "he will not see me stopping here   \n",
            "to watch his woods fill up with snow   \n",
            "\n",
            "my little horse must think it queer   \n",
            "to stop without a farmhouse near   \n",
            "between the woods and frozen lake   \n",
            "the darkest evening of the year   \n",
            "\n",
            "he gives his harness bells a shake   \n",
            "to ask if there is some mistake   \n",
            "the only other sounds the sweep   \n",
            "of easy wind and downy flake   \n",
            "\n",
            "the woods are lovely dark and deep   \n",
            "but i have promises to keep   \n",
            "and miles to go before i sleep   \n",
            "and miles to go before i sleep\n",
            "\n",
            "when i see birches bend to left and right\n",
            "across the lines of straighter darker trees\n",
            "i like to think some boys been swinging them\n",
            "but swinging doesnt bend them down to stay\n",
            "as icestorms do often you must have seen them\n",
            "loaded with ice a sunny winter morning\n",
            "after a rain they click upon themselves\n",
            "as the breeze rises and turn manycolored\n",
            "as the stir cracks and crazes their enamel\n",
            "soon the suns warmth makes them shed crystal shells\n",
            "shattering and avalanching on the snowcrust—\n",
            "such heaps of broken glass to sweep away\n",
            "youd think the inner dome of heaven had fallen\n",
            "they are dragged to the withered bracken by the load\n",
            "and they seem not to break though once they are bowed\n",
            "so low for long they never right themselves\n",
            "you may see their trunks arching in the woods\n",
            "years afterwards trailing their leaves on the ground\n",
            "like girls on hands and knees that throw their hair\n",
            "before them over their heads to dry in the sun\n",
            "but i was going to say when truth broke in\n",
            "with all her matteroffact about the icestorm\n",
            "i should prefer to have some boy bend them\n",
            "as he went out and in to fetch the cows—\n",
            "some boy too far from town to learn baseball\n",
            "whose only play was what he found himself\n",
            "summer or winter and could play alone\n",
            "one by one he subdued his fathers trees\n",
            "by riding them down over and over again\n",
            "until he took the stiffness out of them\n",
            "and not one but hung limp not one was left\n",
            "for him to conquer he learned all there was\n",
            "to learn about not launching out too soon\n",
            "and so not carrying the tree away\n",
            "clear to the ground he always kept his poise\n",
            "to the top branches climbing carefully\n",
            "with the same pains you use to fill a cup\n",
            "up to the brim and even above the brim\n",
            "then he flung outward feet first with a swish\n",
            "kicking his way down through the air to the ground\n",
            "so was i once myself a swinger of birches\n",
            "and so i dream of going back to be\n",
            "its when im weary of considerations\n",
            "and life is too much like a pathless wood\n",
            "where your face burns and tickles with the cobwebs\n",
            "broken across it and one eye is weeping\n",
            "from a twigs having lashed across it open\n",
            "id like to get away from earth awhile\n",
            "and then come back to it and begin over\n",
            "may no fate willfully misunderstand me\n",
            "and half grant what i wish and snatch me away\n",
            "not to return earths the right place for love\n",
            "i dont know where its likely to go better\n",
            "id like to go by climbing a birch tree\n",
            "and climb black branches up a snowwhite trunk\n",
            "toward heaven till the tree could bear no more\n",
            "but dipped its top and set me down again\n",
            "that would be good both going and coming back\n",
            "one could do worse than be a swinger of birches\n",
            "\n",
            "before man came to blow it right\n",
            "     the wind once blew itself untaught\n",
            "and did its loudest day and night\n",
            "     in any rough place where it caught\n",
            " \n",
            "man came to tell it what was wrong\n",
            "     it hadnt found the place to blow\n",
            "it blew too hard—the aim was song\n",
            "     and listen—how it ought to go!\n",
            " \n",
            "he took a little in his mouth\n",
            "     and held it long enough for north\n",
            "to be converted into south\n",
            "     and then by measure blew it forth\n",
            " \n",
            "by measure it was word and note\n",
            "     the wind the wind had meant to be—\n",
            "a little through the lips and throat\n",
            "     the aim was song—the wind could see\n",
            "\n",
            "the city had withdrawn into itself\n",
            "and left at last the country to the country\n",
            "when between whirls of snow not come to lie\n",
            "and whirls of foliage not yet laid there drove\n",
            "a stranger to our yard who looked the city\n",
            "yet did in country fashion in that there\n",
            "he sat and waited till he drew us out\n",
            "abuttoning coats to ask him who he was\n",
            "he proved to be the city come again\n",
            "to look for something it had left behind\n",
            "and could not do without and keep its christmas\n",
            "he asked if i would sell my christmas trees\n",
            "my woods—the young fir balsams like a place\n",
            "where houses all are churches and have spires\n",
            "i hadnt thought of them as christmas trees\n",
            "i doubt if i was tempted for a moment\n",
            "to sell them off their feet to go in cars\n",
            "and leave the slope behind the house all bare\n",
            "where the sun shines now no warmer than the moon\n",
            "id hate to have them know it if i was\n",
            "yet more id hate to hold my trees except\n",
            "as others hold theirs or refuse for them\n",
            "beyond the time of profitable growth\n",
            "the trial by market everything must come to\n",
            "i dallied so much with the thought of selling\n",
            "then whether from mistaken courtesy\n",
            "and fear of seeming short of speech or whether\n",
            "from hope of hearing good of what was mine i said\n",
            "there arent enough to be worth while\n",
            "i could soon tell how many they would cut\n",
            "you let me look them over\n",
            "\n",
            "                                                     you could look\n",
            "but dont expect im going to let you have them\n",
            "pasture they spring in some in clumps too close\n",
            "that lop each other of boughs but not a few\n",
            "quite solitary and having equal boughs\n",
            "all round and round the latter he nodded yes to\n",
            "or paused to say beneath some lovelier one\n",
            "with a buyers moderation that would do\n",
            "i thought so too but wasnt there to say so\n",
            "we climbed the pasture on the south crossed over\n",
            "and came down on the north he said a thousand\n",
            "\n",
            "a thousand christmas trees!—at what apiece?\n",
            "\n",
            "he felt some need of softening that to me\n",
            "a thousand trees would come to thirty dollars\n",
            "\n",
            "then i was certain i had never meant\n",
            "to let him have them never show surprise!\n",
            "but thirty dollars seemed so small beside\n",
            "the extent of pasture i should strip three cents\n",
            "for that was all they figured out apiece\n",
            "three cents so small beside the dollar friends\n",
            "i should be writing to within the hour\n",
            "would pay in cities for good trees like those\n",
            "regular vestrytrees whole sunday schools\n",
            "could hang enough on to pick off enough\n",
            "a thousand christmas trees i didnt know i had!\n",
            "worth three cents more to give away than sell\n",
            "as may be shown by a simple calculation\n",
            "too bad i couldnt lay one in a letter\n",
            "i cant help wishing i could send you one\n",
            "in wishing you herewith a merry christmas\n"
          ]
        }
      ]
    },
    {
      "cell_type": "code",
      "source": [
        "final_data = final.split('\\n')       # splitting again to get list of cleaned and splitted data ready to be processed\n",
        "print(final_data)"
      ],
      "metadata": {
        "colab": {
          "base_uri": "https://localhost:8080/"
        },
        "id": "EmI9oSDGfNq0",
        "outputId": "c7cd1488-5edc-418f-cf5f-b9f10c0a1fd4"
      },
      "execution_count": null,
      "outputs": [
        {
          "output_type": "stream",
          "name": "stdout",
          "text": [
            "['', 'two roads diverged in a yellow wood', 'and sorry i could not travel both', 'and be one traveler long i stood', 'and looked down one as far as i could', 'to where it bent in the undergrowth', '', 'then took the other as just as fair', 'and having perhaps the better claim', 'because it was grassy and wanted wear', 'though as for that the passing there', 'had worn them really about the same', '', 'and both that morning equally lay', 'in leaves no step had trodden black', 'oh i kept the first for another day!', 'yet knowing how way leads on to way', 'i doubted if i should ever come back', '', 'i shall be telling this with a sigh', 'somewhere ages and ages hence', 'two roads diverged in a wood and i—', 'i took the one less traveled by', 'and that has made all the difference', '', 'whose woods these are i think i know   ', 'his house is in the village though   ', 'he will not see me stopping here   ', 'to watch his woods fill up with snow   ', '', 'my little horse must think it queer   ', 'to stop without a farmhouse near   ', 'between the woods and frozen lake   ', 'the darkest evening of the year   ', '', 'he gives his harness bells a shake   ', 'to ask if there is some mistake   ', 'the only other sounds the sweep   ', 'of easy wind and downy flake   ', '', 'the woods are lovely dark and deep   ', 'but i have promises to keep   ', 'and miles to go before i sleep   ', 'and miles to go before i sleep', '', 'when i see birches bend to left and right', 'across the lines of straighter darker trees', 'i like to think some boys been swinging them', 'but swinging doesnt bend them down to stay', 'as icestorms do often you must have seen them', 'loaded with ice a sunny winter morning', 'after a rain they click upon themselves', 'as the breeze rises and turn manycolored', 'as the stir cracks and crazes their enamel', 'soon the suns warmth makes them shed crystal shells', 'shattering and avalanching on the snowcrust—', 'such heaps of broken glass to sweep away', 'youd think the inner dome of heaven had fallen', 'they are dragged to the withered bracken by the load', 'and they seem not to break though once they are bowed', 'so low for long they never right themselves', 'you may see their trunks arching in the woods', 'years afterwards trailing their leaves on the ground', 'like girls on hands and knees that throw their hair', 'before them over their heads to dry in the sun', 'but i was going to say when truth broke in', 'with all her matteroffact about the icestorm', 'i should prefer to have some boy bend them', 'as he went out and in to fetch the cows—', 'some boy too far from town to learn baseball', 'whose only play was what he found himself', 'summer or winter and could play alone', 'one by one he subdued his fathers trees', 'by riding them down over and over again', 'until he took the stiffness out of them', 'and not one but hung limp not one was left', 'for him to conquer he learned all there was', 'to learn about not launching out too soon', 'and so not carrying the tree away', 'clear to the ground he always kept his poise', 'to the top branches climbing carefully', 'with the same pains you use to fill a cup', 'up to the brim and even above the brim', 'then he flung outward feet first with a swish', 'kicking his way down through the air to the ground', 'so was i once myself a swinger of birches', 'and so i dream of going back to be', 'its when im weary of considerations', 'and life is too much like a pathless wood', 'where your face burns and tickles with the cobwebs', 'broken across it and one eye is weeping', 'from a twigs having lashed across it open', 'id like to get away from earth awhile', 'and then come back to it and begin over', 'may no fate willfully misunderstand me', 'and half grant what i wish and snatch me away', 'not to return earths the right place for love', 'i dont know where its likely to go better', 'id like to go by climbing a birch tree', 'and climb black branches up a snowwhite trunk', 'toward heaven till the tree could bear no more', 'but dipped its top and set me down again', 'that would be good both going and coming back', 'one could do worse than be a swinger of birches', '', 'before man came to blow it right', '     the wind once blew itself untaught', 'and did its loudest day and night', '     in any rough place where it caught', ' ', 'man came to tell it what was wrong', '     it hadnt found the place to blow', 'it blew too hard—the aim was song', '     and listen—how it ought to go!', ' ', 'he took a little in his mouth', '     and held it long enough for north', 'to be converted into south', '     and then by measure blew it forth', ' ', 'by measure it was word and note', '     the wind the wind had meant to be—', 'a little through the lips and throat', '     the aim was song—the wind could see', '', 'the city had withdrawn into itself', 'and left at last the country to the country', 'when between whirls of snow not come to lie', 'and whirls of foliage not yet laid there drove', 'a stranger to our yard who looked the city', 'yet did in country fashion in that there', 'he sat and waited till he drew us out', 'abuttoning coats to ask him who he was', 'he proved to be the city come again', 'to look for something it had left behind', 'and could not do without and keep its christmas', 'he asked if i would sell my christmas trees', 'my woods—the young fir balsams like a place', 'where houses all are churches and have spires', 'i hadnt thought of them as christmas trees', 'i doubt if i was tempted for a moment', 'to sell them off their feet to go in cars', 'and leave the slope behind the house all bare', 'where the sun shines now no warmer than the moon', 'id hate to have them know it if i was', 'yet more id hate to hold my trees except', 'as others hold theirs or refuse for them', 'beyond the time of profitable growth', 'the trial by market everything must come to', 'i dallied so much with the thought of selling', 'then whether from mistaken courtesy', 'and fear of seeming short of speech or whether', 'from hope of hearing good of what was mine i said', 'there arent enough to be worth while', 'i could soon tell how many they would cut', 'you let me look them over', '', '                                                     you could look', 'but dont expect im going to let you have them', 'pasture they spring in some in clumps too close', 'that lop each other of boughs but not a few', 'quite solitary and having equal boughs', 'all round and round the latter he nodded yes to', 'or paused to say beneath some lovelier one', 'with a buyers moderation that would do', 'i thought so too but wasnt there to say so', 'we climbed the pasture on the south crossed over', 'and came down on the north he said a thousand', '', 'a thousand christmas trees!—at what apiece?', '', 'he felt some need of softening that to me', 'a thousand trees would come to thirty dollars', '', 'then i was certain i had never meant', 'to let him have them never show surprise!', 'but thirty dollars seemed so small beside', 'the extent of pasture i should strip three cents', 'for that was all they figured out apiece', 'three cents so small beside the dollar friends', 'i should be writing to within the hour', 'would pay in cities for good trees like those', 'regular vestrytrees whole sunday schools', 'could hang enough on to pick off enough', 'a thousand christmas trees i didnt know i had!', 'worth three cents more to give away than sell', 'as may be shown by a simple calculation', 'too bad i couldnt lay one in a letter', 'i cant help wishing i could send you one', 'in wishing you herewith a merry christmas']\n"
          ]
        }
      ]
    },
    {
      "cell_type": "code",
      "source": [
        "from tensorflow.keras.preprocessing.text import Tokenizer\n",
        "from tensorflow.keras.preprocessing.sequence import pad_sequences\n"
      ],
      "metadata": {
        "id": "RXysPeHJfNoO"
      },
      "execution_count": null,
      "outputs": []
    },
    {
      "cell_type": "code",
      "source": [
        "max_vocab = 1000000\n",
        "tokenizer = Tokenizer(num_words=max_vocab)\n",
        "tokenizer.fit_on_texts(final_data)"
      ],
      "metadata": {
        "id": "c77rjnfDfNk4"
      },
      "execution_count": null,
      "outputs": []
    },
    {
      "cell_type": "code",
      "source": [
        "word2idx = tokenizer.word_index\n",
        "print(len(word2idx))\n",
        "print(word2idx)\n",
        "vocab_size = len(word2idx) + 1        # Adding 1 to the vocab_size because the index starts from 1 not 0. This will make it uniform when using it further\n",
        "print(vocab_size)"
      ],
      "metadata": {
        "colab": {
          "base_uri": "https://localhost:8080/"
        },
        "id": "PECpgUmRfxHG",
        "outputId": "7131625a-0752-4dcc-e804-7d36937a6fc3"
      },
      "execution_count": null,
      "outputs": [
        {
          "output_type": "stream",
          "name": "stdout",
          "text": [
            "544\n",
            "{'the': 1, 'to': 2, 'and': 3, 'i': 4, 'a': 5, 'of': 6, 'in': 7, 'he': 8, 'it': 9, 'was': 10, 'them': 11, 'not': 12, 'one': 13, 'as': 14, 'could': 15, 'for': 16, 'be': 17, 'that': 18, 'with': 19, 'by': 20, 'but': 21, 'trees': 22, 'so': 23, 'had': 24, 'you': 25, 'they': 26, 'there': 27, 'on': 28, 'all': 29, 'his': 30, 'some': 31, 'have': 32, 'like': 33, 'too': 34, 'down': 35, 'where': 36, 'then': 37, 'come': 38, 'me': 39, 'go': 40, 'their': 41, 'over': 42, 'would': 43, 'christmas': 44, 'if': 45, 'woods': 46, 'are': 47, 'wind': 48, 'away': 49, 'out': 50, 'from': 51, 'what': 52, 'its': 53, 'took': 54, 'no': 55, 'yet': 56, 'should': 57, 'back': 58, 'think': 59, 'know': 60, 'is': 61, 'see': 62, 'my': 63, 'before': 64, 'when': 65, 'left': 66, 'right': 67, 'do': 68, 'going': 69, 'or': 70, 'id': 71, 'place': 72, 'enough': 73, 'thousand': 74, 'wood': 75, 'both': 76, 'long': 77, 'other': 78, 'having': 79, 'though': 80, 'about': 81, 'way': 82, 'up': 83, 'little': 84, 'must': 85, 'birches': 86, 'bend': 87, 'across': 88, 'soon': 89, 'once': 90, 'never': 91, 'may': 92, 'ground': 93, 'say': 94, 'again': 95, 'him': 96, 'tree': 97, 'more': 98, 'good': 99, 'than': 100, 'came': 101, 'blew': 102, 'city': 103, 'country': 104, 'look': 105, 'sell': 106, 'thought': 107, 'let': 108, 'pasture': 109, 'three': 110, 'cents': 111, 'two': 112, 'roads': 113, 'diverged': 114, 'looked': 115, 'far': 116, 'better': 117, 'same': 118, 'morning': 119, 'lay': 120, 'leaves': 121, 'black': 122, 'kept': 123, 'first': 124, 'day': 125, 'how': 126, 'ages': 127, 'whose': 128, 'house': 129, 'fill': 130, 'snow': 131, 'without': 132, 'between': 133, 'ask': 134, 'only': 135, 'sweep': 136, 'keep': 137, 'miles': 138, 'sleep': 139, 'swinging': 140, 'winter': 141, 'themselves': 142, 'broken': 143, 'heaven': 144, 'sun': 145, 'boy': 146, 'learn': 147, 'play': 148, 'found': 149, 'top': 150, 'branches': 151, 'climbing': 152, 'brim': 153, 'feet': 154, 'through': 155, 'swinger': 156, 'im': 157, 'much': 158, 'dont': 159, 'till': 160, 'man': 161, 'blow': 162, 'itself': 163, 'did': 164, 'tell': 165, 'hadnt': 166, 'aim': 167, 'north': 168, 'into': 169, 'south': 170, 'measure': 171, 'meant': 172, 'whirls': 173, 'who': 174, 'behind': 175, 'off': 176, 'hate': 177, 'hold': 178, 'whether': 179, 'said': 180, 'worth': 181, 'boughs': 182, 'round': 183, 'apiece': 184, 'thirty': 185, 'dollars': 186, 'small': 187, 'beside': 188, 'wishing': 189, 'yellow': 190, 'sorry': 191, 'travel': 192, 'traveler': 193, 'stood': 194, 'bent': 195, 'undergrowth': 196, 'just': 197, 'fair': 198, 'perhaps': 199, 'claim': 200, 'because': 201, 'grassy': 202, 'wanted': 203, 'wear': 204, 'passing': 205, 'worn': 206, 'really': 207, 'equally': 208, 'step': 209, 'trodden': 210, 'oh': 211, 'another': 212, 'knowing': 213, 'leads': 214, 'doubted': 215, 'ever': 216, 'shall': 217, 'telling': 218, 'this': 219, 'sigh': 220, 'somewhere': 221, 'hence': 222, 'i—': 223, 'less': 224, 'traveled': 225, 'has': 226, 'made': 227, 'difference': 228, 'these': 229, 'village': 230, 'will': 231, 'stopping': 232, 'here': 233, 'watch': 234, 'horse': 235, 'queer': 236, 'stop': 237, 'farmhouse': 238, 'near': 239, 'frozen': 240, 'lake': 241, 'darkest': 242, 'evening': 243, 'year': 244, 'gives': 245, 'harness': 246, 'bells': 247, 'shake': 248, 'mistake': 249, 'sounds': 250, 'easy': 251, 'downy': 252, 'flake': 253, 'lovely': 254, 'dark': 255, 'deep': 256, 'promises': 257, 'lines': 258, 'straighter': 259, 'darker': 260, 'boys': 261, 'been': 262, 'doesnt': 263, 'stay': 264, 'icestorms': 265, 'often': 266, 'seen': 267, 'loaded': 268, 'ice': 269, 'sunny': 270, 'after': 271, 'rain': 272, 'click': 273, 'upon': 274, 'breeze': 275, 'rises': 276, 'turn': 277, 'manycolored': 278, 'stir': 279, 'cracks': 280, 'crazes': 281, 'enamel': 282, 'suns': 283, 'warmth': 284, 'makes': 285, 'shed': 286, 'crystal': 287, 'shells': 288, 'shattering': 289, 'avalanching': 290, 'snowcrust—': 291, 'such': 292, 'heaps': 293, 'glass': 294, 'youd': 295, 'inner': 296, 'dome': 297, 'fallen': 298, 'dragged': 299, 'withered': 300, 'bracken': 301, 'load': 302, 'seem': 303, 'break': 304, 'bowed': 305, 'low': 306, 'trunks': 307, 'arching': 308, 'years': 309, 'afterwards': 310, 'trailing': 311, 'girls': 312, 'hands': 313, 'knees': 314, 'throw': 315, 'hair': 316, 'heads': 317, 'dry': 318, 'truth': 319, 'broke': 320, 'her': 321, 'matteroffact': 322, 'icestorm': 323, 'prefer': 324, 'went': 325, 'fetch': 326, 'cows—': 327, 'town': 328, 'baseball': 329, 'himself': 330, 'summer': 331, 'alone': 332, 'subdued': 333, 'fathers': 334, 'riding': 335, 'until': 336, 'stiffness': 337, 'hung': 338, 'limp': 339, 'conquer': 340, 'learned': 341, 'launching': 342, 'carrying': 343, 'clear': 344, 'always': 345, 'poise': 346, 'carefully': 347, 'pains': 348, 'use': 349, 'cup': 350, 'even': 351, 'above': 352, 'flung': 353, 'outward': 354, 'swish': 355, 'kicking': 356, 'air': 357, 'myself': 358, 'dream': 359, 'weary': 360, 'considerations': 361, 'life': 362, 'pathless': 363, 'your': 364, 'face': 365, 'burns': 366, 'tickles': 367, 'cobwebs': 368, 'eye': 369, 'weeping': 370, 'twigs': 371, 'lashed': 372, 'open': 373, 'get': 374, 'earth': 375, 'awhile': 376, 'begin': 377, 'fate': 378, 'willfully': 379, 'misunderstand': 380, 'half': 381, 'grant': 382, 'wish': 383, 'snatch': 384, 'return': 385, 'earths': 386, 'love': 387, 'likely': 388, 'birch': 389, 'climb': 390, 'snowwhite': 391, 'trunk': 392, 'toward': 393, 'bear': 394, 'dipped': 395, 'set': 396, 'coming': 397, 'worse': 398, 'untaught': 399, 'loudest': 400, 'night': 401, 'any': 402, 'rough': 403, 'caught': 404, 'wrong': 405, 'hard—the': 406, 'song': 407, 'listen—how': 408, 'ought': 409, 'mouth': 410, 'held': 411, 'converted': 412, 'forth': 413, 'word': 414, 'note': 415, 'be—': 416, 'lips': 417, 'throat': 418, 'song—the': 419, 'withdrawn': 420, 'at': 421, 'last': 422, 'lie': 423, 'foliage': 424, 'laid': 425, 'drove': 426, 'stranger': 427, 'our': 428, 'yard': 429, 'fashion': 430, 'sat': 431, 'waited': 432, 'drew': 433, 'us': 434, 'abuttoning': 435, 'coats': 436, 'proved': 437, 'something': 438, 'asked': 439, 'woods—the': 440, 'young': 441, 'fir': 442, 'balsams': 443, 'houses': 444, 'churches': 445, 'spires': 446, 'doubt': 447, 'tempted': 448, 'moment': 449, 'cars': 450, 'leave': 451, 'slope': 452, 'bare': 453, 'shines': 454, 'now': 455, 'warmer': 456, 'moon': 457, 'except': 458, 'others': 459, 'theirs': 460, 'refuse': 461, 'beyond': 462, 'time': 463, 'profitable': 464, 'growth': 465, 'trial': 466, 'market': 467, 'everything': 468, 'dallied': 469, 'selling': 470, 'mistaken': 471, 'courtesy': 472, 'fear': 473, 'seeming': 474, 'short': 475, 'speech': 476, 'hope': 477, 'hearing': 478, 'mine': 479, 'arent': 480, 'while': 481, 'many': 482, 'cut': 483, 'expect': 484, 'spring': 485, 'clumps': 486, 'close': 487, 'lop': 488, 'each': 489, 'few': 490, 'quite': 491, 'solitary': 492, 'equal': 493, 'latter': 494, 'nodded': 495, 'yes': 496, 'paused': 497, 'beneath': 498, 'lovelier': 499, 'buyers': 500, 'moderation': 501, 'wasnt': 502, 'we': 503, 'climbed': 504, 'crossed': 505, '—at': 506, 'felt': 507, 'need': 508, 'softening': 509, 'certain': 510, 'show': 511, 'surprise': 512, 'seemed': 513, 'extent': 514, 'strip': 515, 'figured': 516, 'dollar': 517, 'friends': 518, 'writing': 519, 'within': 520, 'hour': 521, 'pay': 522, 'cities': 523, 'those': 524, 'regular': 525, 'vestrytrees': 526, 'whole': 527, 'sunday': 528, 'schools': 529, 'hang': 530, 'pick': 531, 'didnt': 532, 'give': 533, 'shown': 534, 'simple': 535, 'calculation': 536, 'bad': 537, 'couldnt': 538, 'letter': 539, 'cant': 540, 'help': 541, 'send': 542, 'herewith': 543, 'merry': 544}\n",
            "545\n"
          ]
        }
      ]
    },
    {
      "cell_type": "code",
      "source": [
        "input_seq = []\n",
        "\n",
        "for line in final_data:\n",
        "  token_list = tokenizer.texts_to_sequences([line])[0]\n",
        "  for i in range(1, len(token_list)):\n",
        "    n_gram_seq = token_list[:i+1]\n",
        "    input_seq.append(n_gram_seq)\n",
        "\n",
        "print(input_seq)"
      ],
      "metadata": {
        "colab": {
          "base_uri": "https://localhost:8080/"
        },
        "id": "ju_jAcy9fxDx",
        "outputId": "445291af-9259-48f9-a915-4eb50b103c00"
      },
      "execution_count": null,
      "outputs": [
        {
          "output_type": "stream",
          "name": "stdout",
          "text": [
            "[[112, 113], [112, 113, 114], [112, 113, 114, 7], [112, 113, 114, 7, 5], [112, 113, 114, 7, 5, 190], [112, 113, 114, 7, 5, 190, 75], [3, 191], [3, 191, 4], [3, 191, 4, 15], [3, 191, 4, 15, 12], [3, 191, 4, 15, 12, 192], [3, 191, 4, 15, 12, 192, 76], [3, 17], [3, 17, 13], [3, 17, 13, 193], [3, 17, 13, 193, 77], [3, 17, 13, 193, 77, 4], [3, 17, 13, 193, 77, 4, 194], [3, 115], [3, 115, 35], [3, 115, 35, 13], [3, 115, 35, 13, 14], [3, 115, 35, 13, 14, 116], [3, 115, 35, 13, 14, 116, 14], [3, 115, 35, 13, 14, 116, 14, 4], [3, 115, 35, 13, 14, 116, 14, 4, 15], [2, 36], [2, 36, 9], [2, 36, 9, 195], [2, 36, 9, 195, 7], [2, 36, 9, 195, 7, 1], [2, 36, 9, 195, 7, 1, 196], [37, 54], [37, 54, 1], [37, 54, 1, 78], [37, 54, 1, 78, 14], [37, 54, 1, 78, 14, 197], [37, 54, 1, 78, 14, 197, 14], [37, 54, 1, 78, 14, 197, 14, 198], [3, 79], [3, 79, 199], [3, 79, 199, 1], [3, 79, 199, 1, 117], [3, 79, 199, 1, 117, 200], [201, 9], [201, 9, 10], [201, 9, 10, 202], [201, 9, 10, 202, 3], [201, 9, 10, 202, 3, 203], [201, 9, 10, 202, 3, 203, 204], [80, 14], [80, 14, 16], [80, 14, 16, 18], [80, 14, 16, 18, 1], [80, 14, 16, 18, 1, 205], [80, 14, 16, 18, 1, 205, 27], [24, 206], [24, 206, 11], [24, 206, 11, 207], [24, 206, 11, 207, 81], [24, 206, 11, 207, 81, 1], [24, 206, 11, 207, 81, 1, 118], [3, 76], [3, 76, 18], [3, 76, 18, 119], [3, 76, 18, 119, 208], [3, 76, 18, 119, 208, 120], [7, 121], [7, 121, 55], [7, 121, 55, 209], [7, 121, 55, 209, 24], [7, 121, 55, 209, 24, 210], [7, 121, 55, 209, 24, 210, 122], [211, 4], [211, 4, 123], [211, 4, 123, 1], [211, 4, 123, 1, 124], [211, 4, 123, 1, 124, 16], [211, 4, 123, 1, 124, 16, 212], [211, 4, 123, 1, 124, 16, 212, 125], [56, 213], [56, 213, 126], [56, 213, 126, 82], [56, 213, 126, 82, 214], [56, 213, 126, 82, 214, 28], [56, 213, 126, 82, 214, 28, 2], [56, 213, 126, 82, 214, 28, 2, 82], [4, 215], [4, 215, 45], [4, 215, 45, 4], [4, 215, 45, 4, 57], [4, 215, 45, 4, 57, 216], [4, 215, 45, 4, 57, 216, 38], [4, 215, 45, 4, 57, 216, 38, 58], [4, 217], [4, 217, 17], [4, 217, 17, 218], [4, 217, 17, 218, 219], [4, 217, 17, 218, 219, 19], [4, 217, 17, 218, 219, 19, 5], [4, 217, 17, 218, 219, 19, 5, 220], [221, 127], [221, 127, 3], [221, 127, 3, 127], [221, 127, 3, 127, 222], [112, 113], [112, 113, 114], [112, 113, 114, 7], [112, 113, 114, 7, 5], [112, 113, 114, 7, 5, 75], [112, 113, 114, 7, 5, 75, 3], [112, 113, 114, 7, 5, 75, 3, 223], [4, 54], [4, 54, 1], [4, 54, 1, 13], [4, 54, 1, 13, 224], [4, 54, 1, 13, 224, 225], [4, 54, 1, 13, 224, 225, 20], [3, 18], [3, 18, 226], [3, 18, 226, 227], [3, 18, 226, 227, 29], [3, 18, 226, 227, 29, 1], [3, 18, 226, 227, 29, 1, 228], [128, 46], [128, 46, 229], [128, 46, 229, 47], [128, 46, 229, 47, 4], [128, 46, 229, 47, 4, 59], [128, 46, 229, 47, 4, 59, 4], [128, 46, 229, 47, 4, 59, 4, 60], [30, 129], [30, 129, 61], [30, 129, 61, 7], [30, 129, 61, 7, 1], [30, 129, 61, 7, 1, 230], [30, 129, 61, 7, 1, 230, 80], [8, 231], [8, 231, 12], [8, 231, 12, 62], [8, 231, 12, 62, 39], [8, 231, 12, 62, 39, 232], [8, 231, 12, 62, 39, 232, 233], [2, 234], [2, 234, 30], [2, 234, 30, 46], [2, 234, 30, 46, 130], [2, 234, 30, 46, 130, 83], [2, 234, 30, 46, 130, 83, 19], [2, 234, 30, 46, 130, 83, 19, 131], [63, 84], [63, 84, 235], [63, 84, 235, 85], [63, 84, 235, 85, 59], [63, 84, 235, 85, 59, 9], [63, 84, 235, 85, 59, 9, 236], [2, 237], [2, 237, 132], [2, 237, 132, 5], [2, 237, 132, 5, 238], [2, 237, 132, 5, 238, 239], [133, 1], [133, 1, 46], [133, 1, 46, 3], [133, 1, 46, 3, 240], [133, 1, 46, 3, 240, 241], [1, 242], [1, 242, 243], [1, 242, 243, 6], [1, 242, 243, 6, 1], [1, 242, 243, 6, 1, 244], [8, 245], [8, 245, 30], [8, 245, 30, 246], [8, 245, 30, 246, 247], [8, 245, 30, 246, 247, 5], [8, 245, 30, 246, 247, 5, 248], [2, 134], [2, 134, 45], [2, 134, 45, 27], [2, 134, 45, 27, 61], [2, 134, 45, 27, 61, 31], [2, 134, 45, 27, 61, 31, 249], [1, 135], [1, 135, 78], [1, 135, 78, 250], [1, 135, 78, 250, 1], [1, 135, 78, 250, 1, 136], [6, 251], [6, 251, 48], [6, 251, 48, 3], [6, 251, 48, 3, 252], [6, 251, 48, 3, 252, 253], [1, 46], [1, 46, 47], [1, 46, 47, 254], [1, 46, 47, 254, 255], [1, 46, 47, 254, 255, 3], [1, 46, 47, 254, 255, 3, 256], [21, 4], [21, 4, 32], [21, 4, 32, 257], [21, 4, 32, 257, 2], [21, 4, 32, 257, 2, 137], [3, 138], [3, 138, 2], [3, 138, 2, 40], [3, 138, 2, 40, 64], [3, 138, 2, 40, 64, 4], [3, 138, 2, 40, 64, 4, 139], [3, 138], [3, 138, 2], [3, 138, 2, 40], [3, 138, 2, 40, 64], [3, 138, 2, 40, 64, 4], [3, 138, 2, 40, 64, 4, 139], [65, 4], [65, 4, 62], [65, 4, 62, 86], [65, 4, 62, 86, 87], [65, 4, 62, 86, 87, 2], [65, 4, 62, 86, 87, 2, 66], [65, 4, 62, 86, 87, 2, 66, 3], [65, 4, 62, 86, 87, 2, 66, 3, 67], [88, 1], [88, 1, 258], [88, 1, 258, 6], [88, 1, 258, 6, 259], [88, 1, 258, 6, 259, 260], [88, 1, 258, 6, 259, 260, 22], [4, 33], [4, 33, 2], [4, 33, 2, 59], [4, 33, 2, 59, 31], [4, 33, 2, 59, 31, 261], [4, 33, 2, 59, 31, 261, 262], [4, 33, 2, 59, 31, 261, 262, 140], [4, 33, 2, 59, 31, 261, 262, 140, 11], [21, 140], [21, 140, 263], [21, 140, 263, 87], [21, 140, 263, 87, 11], [21, 140, 263, 87, 11, 35], [21, 140, 263, 87, 11, 35, 2], [21, 140, 263, 87, 11, 35, 2, 264], [14, 265], [14, 265, 68], [14, 265, 68, 266], [14, 265, 68, 266, 25], [14, 265, 68, 266, 25, 85], [14, 265, 68, 266, 25, 85, 32], [14, 265, 68, 266, 25, 85, 32, 267], [14, 265, 68, 266, 25, 85, 32, 267, 11], [268, 19], [268, 19, 269], [268, 19, 269, 5], [268, 19, 269, 5, 270], [268, 19, 269, 5, 270, 141], [268, 19, 269, 5, 270, 141, 119], [271, 5], [271, 5, 272], [271, 5, 272, 26], [271, 5, 272, 26, 273], [271, 5, 272, 26, 273, 274], [271, 5, 272, 26, 273, 274, 142], [14, 1], [14, 1, 275], [14, 1, 275, 276], [14, 1, 275, 276, 3], [14, 1, 275, 276, 3, 277], [14, 1, 275, 276, 3, 277, 278], [14, 1], [14, 1, 279], [14, 1, 279, 280], [14, 1, 279, 280, 3], [14, 1, 279, 280, 3, 281], [14, 1, 279, 280, 3, 281, 41], [14, 1, 279, 280, 3, 281, 41, 282], [89, 1], [89, 1, 283], [89, 1, 283, 284], [89, 1, 283, 284, 285], [89, 1, 283, 284, 285, 11], [89, 1, 283, 284, 285, 11, 286], [89, 1, 283, 284, 285, 11, 286, 287], [89, 1, 283, 284, 285, 11, 286, 287, 288], [289, 3], [289, 3, 290], [289, 3, 290, 28], [289, 3, 290, 28, 1], [289, 3, 290, 28, 1, 291], [292, 293], [292, 293, 6], [292, 293, 6, 143], [292, 293, 6, 143, 294], [292, 293, 6, 143, 294, 2], [292, 293, 6, 143, 294, 2, 136], [292, 293, 6, 143, 294, 2, 136, 49], [295, 59], [295, 59, 1], [295, 59, 1, 296], [295, 59, 1, 296, 297], [295, 59, 1, 296, 297, 6], [295, 59, 1, 296, 297, 6, 144], [295, 59, 1, 296, 297, 6, 144, 24], [295, 59, 1, 296, 297, 6, 144, 24, 298], [26, 47], [26, 47, 299], [26, 47, 299, 2], [26, 47, 299, 2, 1], [26, 47, 299, 2, 1, 300], [26, 47, 299, 2, 1, 300, 301], [26, 47, 299, 2, 1, 300, 301, 20], [26, 47, 299, 2, 1, 300, 301, 20, 1], [26, 47, 299, 2, 1, 300, 301, 20, 1, 302], [3, 26], [3, 26, 303], [3, 26, 303, 12], [3, 26, 303, 12, 2], [3, 26, 303, 12, 2, 304], [3, 26, 303, 12, 2, 304, 80], [3, 26, 303, 12, 2, 304, 80, 90], [3, 26, 303, 12, 2, 304, 80, 90, 26], [3, 26, 303, 12, 2, 304, 80, 90, 26, 47], [3, 26, 303, 12, 2, 304, 80, 90, 26, 47, 305], [23, 306], [23, 306, 16], [23, 306, 16, 77], [23, 306, 16, 77, 26], [23, 306, 16, 77, 26, 91], [23, 306, 16, 77, 26, 91, 67], [23, 306, 16, 77, 26, 91, 67, 142], [25, 92], [25, 92, 62], [25, 92, 62, 41], [25, 92, 62, 41, 307], [25, 92, 62, 41, 307, 308], [25, 92, 62, 41, 307, 308, 7], [25, 92, 62, 41, 307, 308, 7, 1], [25, 92, 62, 41, 307, 308, 7, 1, 46], [309, 310], [309, 310, 311], [309, 310, 311, 41], [309, 310, 311, 41, 121], [309, 310, 311, 41, 121, 28], [309, 310, 311, 41, 121, 28, 1], [309, 310, 311, 41, 121, 28, 1, 93], [33, 312], [33, 312, 28], [33, 312, 28, 313], [33, 312, 28, 313, 3], [33, 312, 28, 313, 3, 314], [33, 312, 28, 313, 3, 314, 18], [33, 312, 28, 313, 3, 314, 18, 315], [33, 312, 28, 313, 3, 314, 18, 315, 41], [33, 312, 28, 313, 3, 314, 18, 315, 41, 316], [64, 11], [64, 11, 42], [64, 11, 42, 41], [64, 11, 42, 41, 317], [64, 11, 42, 41, 317, 2], [64, 11, 42, 41, 317, 2, 318], [64, 11, 42, 41, 317, 2, 318, 7], [64, 11, 42, 41, 317, 2, 318, 7, 1], [64, 11, 42, 41, 317, 2, 318, 7, 1, 145], [21, 4], [21, 4, 10], [21, 4, 10, 69], [21, 4, 10, 69, 2], [21, 4, 10, 69, 2, 94], [21, 4, 10, 69, 2, 94, 65], [21, 4, 10, 69, 2, 94, 65, 319], [21, 4, 10, 69, 2, 94, 65, 319, 320], [21, 4, 10, 69, 2, 94, 65, 319, 320, 7], [19, 29], [19, 29, 321], [19, 29, 321, 322], [19, 29, 321, 322, 81], [19, 29, 321, 322, 81, 1], [19, 29, 321, 322, 81, 1, 323], [4, 57], [4, 57, 324], [4, 57, 324, 2], [4, 57, 324, 2, 32], [4, 57, 324, 2, 32, 31], [4, 57, 324, 2, 32, 31, 146], [4, 57, 324, 2, 32, 31, 146, 87], [4, 57, 324, 2, 32, 31, 146, 87, 11], [14, 8], [14, 8, 325], [14, 8, 325, 50], [14, 8, 325, 50, 3], [14, 8, 325, 50, 3, 7], [14, 8, 325, 50, 3, 7, 2], [14, 8, 325, 50, 3, 7, 2, 326], [14, 8, 325, 50, 3, 7, 2, 326, 1], [14, 8, 325, 50, 3, 7, 2, 326, 1, 327], [31, 146], [31, 146, 34], [31, 146, 34, 116], [31, 146, 34, 116, 51], [31, 146, 34, 116, 51, 328], [31, 146, 34, 116, 51, 328, 2], [31, 146, 34, 116, 51, 328, 2, 147], [31, 146, 34, 116, 51, 328, 2, 147, 329], [128, 135], [128, 135, 148], [128, 135, 148, 10], [128, 135, 148, 10, 52], [128, 135, 148, 10, 52, 8], [128, 135, 148, 10, 52, 8, 149], [128, 135, 148, 10, 52, 8, 149, 330], [331, 70], [331, 70, 141], [331, 70, 141, 3], [331, 70, 141, 3, 15], [331, 70, 141, 3, 15, 148], [331, 70, 141, 3, 15, 148, 332], [13, 20], [13, 20, 13], [13, 20, 13, 8], [13, 20, 13, 8, 333], [13, 20, 13, 8, 333, 30], [13, 20, 13, 8, 333, 30, 334], [13, 20, 13, 8, 333, 30, 334, 22], [20, 335], [20, 335, 11], [20, 335, 11, 35], [20, 335, 11, 35, 42], [20, 335, 11, 35, 42, 3], [20, 335, 11, 35, 42, 3, 42], [20, 335, 11, 35, 42, 3, 42, 95], [336, 8], [336, 8, 54], [336, 8, 54, 1], [336, 8, 54, 1, 337], [336, 8, 54, 1, 337, 50], [336, 8, 54, 1, 337, 50, 6], [336, 8, 54, 1, 337, 50, 6, 11], [3, 12], [3, 12, 13], [3, 12, 13, 21], [3, 12, 13, 21, 338], [3, 12, 13, 21, 338, 339], [3, 12, 13, 21, 338, 339, 12], [3, 12, 13, 21, 338, 339, 12, 13], [3, 12, 13, 21, 338, 339, 12, 13, 10], [3, 12, 13, 21, 338, 339, 12, 13, 10, 66], [16, 96], [16, 96, 2], [16, 96, 2, 340], [16, 96, 2, 340, 8], [16, 96, 2, 340, 8, 341], [16, 96, 2, 340, 8, 341, 29], [16, 96, 2, 340, 8, 341, 29, 27], [16, 96, 2, 340, 8, 341, 29, 27, 10], [2, 147], [2, 147, 81], [2, 147, 81, 12], [2, 147, 81, 12, 342], [2, 147, 81, 12, 342, 50], [2, 147, 81, 12, 342, 50, 34], [2, 147, 81, 12, 342, 50, 34, 89], [3, 23], [3, 23, 12], [3, 23, 12, 343], [3, 23, 12, 343, 1], [3, 23, 12, 343, 1, 97], [3, 23, 12, 343, 1, 97, 49], [344, 2], [344, 2, 1], [344, 2, 1, 93], [344, 2, 1, 93, 8], [344, 2, 1, 93, 8, 345], [344, 2, 1, 93, 8, 345, 123], [344, 2, 1, 93, 8, 345, 123, 30], [344, 2, 1, 93, 8, 345, 123, 30, 346], [2, 1], [2, 1, 150], [2, 1, 150, 151], [2, 1, 150, 151, 152], [2, 1, 150, 151, 152, 347], [19, 1], [19, 1, 118], [19, 1, 118, 348], [19, 1, 118, 348, 25], [19, 1, 118, 348, 25, 349], [19, 1, 118, 348, 25, 349, 2], [19, 1, 118, 348, 25, 349, 2, 130], [19, 1, 118, 348, 25, 349, 2, 130, 5], [19, 1, 118, 348, 25, 349, 2, 130, 5, 350], [83, 2], [83, 2, 1], [83, 2, 1, 153], [83, 2, 1, 153, 3], [83, 2, 1, 153, 3, 351], [83, 2, 1, 153, 3, 351, 352], [83, 2, 1, 153, 3, 351, 352, 1], [83, 2, 1, 153, 3, 351, 352, 1, 153], [37, 8], [37, 8, 353], [37, 8, 353, 354], [37, 8, 353, 354, 154], [37, 8, 353, 354, 154, 124], [37, 8, 353, 354, 154, 124, 19], [37, 8, 353, 354, 154, 124, 19, 5], [37, 8, 353, 354, 154, 124, 19, 5, 355], [356, 30], [356, 30, 82], [356, 30, 82, 35], [356, 30, 82, 35, 155], [356, 30, 82, 35, 155, 1], [356, 30, 82, 35, 155, 1, 357], [356, 30, 82, 35, 155, 1, 357, 2], [356, 30, 82, 35, 155, 1, 357, 2, 1], [356, 30, 82, 35, 155, 1, 357, 2, 1, 93], [23, 10], [23, 10, 4], [23, 10, 4, 90], [23, 10, 4, 90, 358], [23, 10, 4, 90, 358, 5], [23, 10, 4, 90, 358, 5, 156], [23, 10, 4, 90, 358, 5, 156, 6], [23, 10, 4, 90, 358, 5, 156, 6, 86], [3, 23], [3, 23, 4], [3, 23, 4, 359], [3, 23, 4, 359, 6], [3, 23, 4, 359, 6, 69], [3, 23, 4, 359, 6, 69, 58], [3, 23, 4, 359, 6, 69, 58, 2], [3, 23, 4, 359, 6, 69, 58, 2, 17], [53, 65], [53, 65, 157], [53, 65, 157, 360], [53, 65, 157, 360, 6], [53, 65, 157, 360, 6, 361], [3, 362], [3, 362, 61], [3, 362, 61, 34], [3, 362, 61, 34, 158], [3, 362, 61, 34, 158, 33], [3, 362, 61, 34, 158, 33, 5], [3, 362, 61, 34, 158, 33, 5, 363], [3, 362, 61, 34, 158, 33, 5, 363, 75], [36, 364], [36, 364, 365], [36, 364, 365, 366], [36, 364, 365, 366, 3], [36, 364, 365, 366, 3, 367], [36, 364, 365, 366, 3, 367, 19], [36, 364, 365, 366, 3, 367, 19, 1], [36, 364, 365, 366, 3, 367, 19, 1, 368], [143, 88], [143, 88, 9], [143, 88, 9, 3], [143, 88, 9, 3, 13], [143, 88, 9, 3, 13, 369], [143, 88, 9, 3, 13, 369, 61], [143, 88, 9, 3, 13, 369, 61, 370], [51, 5], [51, 5, 371], [51, 5, 371, 79], [51, 5, 371, 79, 372], [51, 5, 371, 79, 372, 88], [51, 5, 371, 79, 372, 88, 9], [51, 5, 371, 79, 372, 88, 9, 373], [71, 33], [71, 33, 2], [71, 33, 2, 374], [71, 33, 2, 374, 49], [71, 33, 2, 374, 49, 51], [71, 33, 2, 374, 49, 51, 375], [71, 33, 2, 374, 49, 51, 375, 376], [3, 37], [3, 37, 38], [3, 37, 38, 58], [3, 37, 38, 58, 2], [3, 37, 38, 58, 2, 9], [3, 37, 38, 58, 2, 9, 3], [3, 37, 38, 58, 2, 9, 3, 377], [3, 37, 38, 58, 2, 9, 3, 377, 42], [92, 55], [92, 55, 378], [92, 55, 378, 379], [92, 55, 378, 379, 380], [92, 55, 378, 379, 380, 39], [3, 381], [3, 381, 382], [3, 381, 382, 52], [3, 381, 382, 52, 4], [3, 381, 382, 52, 4, 383], [3, 381, 382, 52, 4, 383, 3], [3, 381, 382, 52, 4, 383, 3, 384], [3, 381, 382, 52, 4, 383, 3, 384, 39], [3, 381, 382, 52, 4, 383, 3, 384, 39, 49], [12, 2], [12, 2, 385], [12, 2, 385, 386], [12, 2, 385, 386, 1], [12, 2, 385, 386, 1, 67], [12, 2, 385, 386, 1, 67, 72], [12, 2, 385, 386, 1, 67, 72, 16], [12, 2, 385, 386, 1, 67, 72, 16, 387], [4, 159], [4, 159, 60], [4, 159, 60, 36], [4, 159, 60, 36, 53], [4, 159, 60, 36, 53, 388], [4, 159, 60, 36, 53, 388, 2], [4, 159, 60, 36, 53, 388, 2, 40], [4, 159, 60, 36, 53, 388, 2, 40, 117], [71, 33], [71, 33, 2], [71, 33, 2, 40], [71, 33, 2, 40, 20], [71, 33, 2, 40, 20, 152], [71, 33, 2, 40, 20, 152, 5], [71, 33, 2, 40, 20, 152, 5, 389], [71, 33, 2, 40, 20, 152, 5, 389, 97], [3, 390], [3, 390, 122], [3, 390, 122, 151], [3, 390, 122, 151, 83], [3, 390, 122, 151, 83, 5], [3, 390, 122, 151, 83, 5, 391], [3, 390, 122, 151, 83, 5, 391, 392], [393, 144], [393, 144, 160], [393, 144, 160, 1], [393, 144, 160, 1, 97], [393, 144, 160, 1, 97, 15], [393, 144, 160, 1, 97, 15, 394], [393, 144, 160, 1, 97, 15, 394, 55], [393, 144, 160, 1, 97, 15, 394, 55, 98], [21, 395], [21, 395, 53], [21, 395, 53, 150], [21, 395, 53, 150, 3], [21, 395, 53, 150, 3, 396], [21, 395, 53, 150, 3, 396, 39], [21, 395, 53, 150, 3, 396, 39, 35], [21, 395, 53, 150, 3, 396, 39, 35, 95], [18, 43], [18, 43, 17], [18, 43, 17, 99], [18, 43, 17, 99, 76], [18, 43, 17, 99, 76, 69], [18, 43, 17, 99, 76, 69, 3], [18, 43, 17, 99, 76, 69, 3, 397], [18, 43, 17, 99, 76, 69, 3, 397, 58], [13, 15], [13, 15, 68], [13, 15, 68, 398], [13, 15, 68, 398, 100], [13, 15, 68, 398, 100, 17], [13, 15, 68, 398, 100, 17, 5], [13, 15, 68, 398, 100, 17, 5, 156], [13, 15, 68, 398, 100, 17, 5, 156, 6], [13, 15, 68, 398, 100, 17, 5, 156, 6, 86], [64, 161], [64, 161, 101], [64, 161, 101, 2], [64, 161, 101, 2, 162], [64, 161, 101, 2, 162, 9], [64, 161, 101, 2, 162, 9, 67], [1, 48], [1, 48, 90], [1, 48, 90, 102], [1, 48, 90, 102, 163], [1, 48, 90, 102, 163, 399], [3, 164], [3, 164, 53], [3, 164, 53, 400], [3, 164, 53, 400, 125], [3, 164, 53, 400, 125, 3], [3, 164, 53, 400, 125, 3, 401], [7, 402], [7, 402, 403], [7, 402, 403, 72], [7, 402, 403, 72, 36], [7, 402, 403, 72, 36, 9], [7, 402, 403, 72, 36, 9, 404], [161, 101], [161, 101, 2], [161, 101, 2, 165], [161, 101, 2, 165, 9], [161, 101, 2, 165, 9, 52], [161, 101, 2, 165, 9, 52, 10], [161, 101, 2, 165, 9, 52, 10, 405], [9, 166], [9, 166, 149], [9, 166, 149, 1], [9, 166, 149, 1, 72], [9, 166, 149, 1, 72, 2], [9, 166, 149, 1, 72, 2, 162], [9, 102], [9, 102, 34], [9, 102, 34, 406], [9, 102, 34, 406, 167], [9, 102, 34, 406, 167, 10], [9, 102, 34, 406, 167, 10, 407], [3, 408], [3, 408, 9], [3, 408, 9, 409], [3, 408, 9, 409, 2], [3, 408, 9, 409, 2, 40], [8, 54], [8, 54, 5], [8, 54, 5, 84], [8, 54, 5, 84, 7], [8, 54, 5, 84, 7, 30], [8, 54, 5, 84, 7, 30, 410], [3, 411], [3, 411, 9], [3, 411, 9, 77], [3, 411, 9, 77, 73], [3, 411, 9, 77, 73, 16], [3, 411, 9, 77, 73, 16, 168], [2, 17], [2, 17, 412], [2, 17, 412, 169], [2, 17, 412, 169, 170], [3, 37], [3, 37, 20], [3, 37, 20, 171], [3, 37, 20, 171, 102], [3, 37, 20, 171, 102, 9], [3, 37, 20, 171, 102, 9, 413], [20, 171], [20, 171, 9], [20, 171, 9, 10], [20, 171, 9, 10, 414], [20, 171, 9, 10, 414, 3], [20, 171, 9, 10, 414, 3, 415], [1, 48], [1, 48, 1], [1, 48, 1, 48], [1, 48, 1, 48, 24], [1, 48, 1, 48, 24, 172], [1, 48, 1, 48, 24, 172, 2], [1, 48, 1, 48, 24, 172, 2, 416], [5, 84], [5, 84, 155], [5, 84, 155, 1], [5, 84, 155, 1, 417], [5, 84, 155, 1, 417, 3], [5, 84, 155, 1, 417, 3, 418], [1, 167], [1, 167, 10], [1, 167, 10, 419], [1, 167, 10, 419, 48], [1, 167, 10, 419, 48, 15], [1, 167, 10, 419, 48, 15, 62], [1, 103], [1, 103, 24], [1, 103, 24, 420], [1, 103, 24, 420, 169], [1, 103, 24, 420, 169, 163], [3, 66], [3, 66, 421], [3, 66, 421, 422], [3, 66, 421, 422, 1], [3, 66, 421, 422, 1, 104], [3, 66, 421, 422, 1, 104, 2], [3, 66, 421, 422, 1, 104, 2, 1], [3, 66, 421, 422, 1, 104, 2, 1, 104], [65, 133], [65, 133, 173], [65, 133, 173, 6], [65, 133, 173, 6, 131], [65, 133, 173, 6, 131, 12], [65, 133, 173, 6, 131, 12, 38], [65, 133, 173, 6, 131, 12, 38, 2], [65, 133, 173, 6, 131, 12, 38, 2, 423], [3, 173], [3, 173, 6], [3, 173, 6, 424], [3, 173, 6, 424, 12], [3, 173, 6, 424, 12, 56], [3, 173, 6, 424, 12, 56, 425], [3, 173, 6, 424, 12, 56, 425, 27], [3, 173, 6, 424, 12, 56, 425, 27, 426], [5, 427], [5, 427, 2], [5, 427, 2, 428], [5, 427, 2, 428, 429], [5, 427, 2, 428, 429, 174], [5, 427, 2, 428, 429, 174, 115], [5, 427, 2, 428, 429, 174, 115, 1], [5, 427, 2, 428, 429, 174, 115, 1, 103], [56, 164], [56, 164, 7], [56, 164, 7, 104], [56, 164, 7, 104, 430], [56, 164, 7, 104, 430, 7], [56, 164, 7, 104, 430, 7, 18], [56, 164, 7, 104, 430, 7, 18, 27], [8, 431], [8, 431, 3], [8, 431, 3, 432], [8, 431, 3, 432, 160], [8, 431, 3, 432, 160, 8], [8, 431, 3, 432, 160, 8, 433], [8, 431, 3, 432, 160, 8, 433, 434], [8, 431, 3, 432, 160, 8, 433, 434, 50], [435, 436], [435, 436, 2], [435, 436, 2, 134], [435, 436, 2, 134, 96], [435, 436, 2, 134, 96, 174], [435, 436, 2, 134, 96, 174, 8], [435, 436, 2, 134, 96, 174, 8, 10], [8, 437], [8, 437, 2], [8, 437, 2, 17], [8, 437, 2, 17, 1], [8, 437, 2, 17, 1, 103], [8, 437, 2, 17, 1, 103, 38], [8, 437, 2, 17, 1, 103, 38, 95], [2, 105], [2, 105, 16], [2, 105, 16, 438], [2, 105, 16, 438, 9], [2, 105, 16, 438, 9, 24], [2, 105, 16, 438, 9, 24, 66], [2, 105, 16, 438, 9, 24, 66, 175], [3, 15], [3, 15, 12], [3, 15, 12, 68], [3, 15, 12, 68, 132], [3, 15, 12, 68, 132, 3], [3, 15, 12, 68, 132, 3, 137], [3, 15, 12, 68, 132, 3, 137, 53], [3, 15, 12, 68, 132, 3, 137, 53, 44], [8, 439], [8, 439, 45], [8, 439, 45, 4], [8, 439, 45, 4, 43], [8, 439, 45, 4, 43, 106], [8, 439, 45, 4, 43, 106, 63], [8, 439, 45, 4, 43, 106, 63, 44], [8, 439, 45, 4, 43, 106, 63, 44, 22], [63, 440], [63, 440, 441], [63, 440, 441, 442], [63, 440, 441, 442, 443], [63, 440, 441, 442, 443, 33], [63, 440, 441, 442, 443, 33, 5], [63, 440, 441, 442, 443, 33, 5, 72], [36, 444], [36, 444, 29], [36, 444, 29, 47], [36, 444, 29, 47, 445], [36, 444, 29, 47, 445, 3], [36, 444, 29, 47, 445, 3, 32], [36, 444, 29, 47, 445, 3, 32, 446], [4, 166], [4, 166, 107], [4, 166, 107, 6], [4, 166, 107, 6, 11], [4, 166, 107, 6, 11, 14], [4, 166, 107, 6, 11, 14, 44], [4, 166, 107, 6, 11, 14, 44, 22], [4, 447], [4, 447, 45], [4, 447, 45, 4], [4, 447, 45, 4, 10], [4, 447, 45, 4, 10, 448], [4, 447, 45, 4, 10, 448, 16], [4, 447, 45, 4, 10, 448, 16, 5], [4, 447, 45, 4, 10, 448, 16, 5, 449], [2, 106], [2, 106, 11], [2, 106, 11, 176], [2, 106, 11, 176, 41], [2, 106, 11, 176, 41, 154], [2, 106, 11, 176, 41, 154, 2], [2, 106, 11, 176, 41, 154, 2, 40], [2, 106, 11, 176, 41, 154, 2, 40, 7], [2, 106, 11, 176, 41, 154, 2, 40, 7, 450], [3, 451], [3, 451, 1], [3, 451, 1, 452], [3, 451, 1, 452, 175], [3, 451, 1, 452, 175, 1], [3, 451, 1, 452, 175, 1, 129], [3, 451, 1, 452, 175, 1, 129, 29], [3, 451, 1, 452, 175, 1, 129, 29, 453], [36, 1], [36, 1, 145], [36, 1, 145, 454], [36, 1, 145, 454, 455], [36, 1, 145, 454, 455, 55], [36, 1, 145, 454, 455, 55, 456], [36, 1, 145, 454, 455, 55, 456, 100], [36, 1, 145, 454, 455, 55, 456, 100, 1], [36, 1, 145, 454, 455, 55, 456, 100, 1, 457], [71, 177], [71, 177, 2], [71, 177, 2, 32], [71, 177, 2, 32, 11], [71, 177, 2, 32, 11, 60], [71, 177, 2, 32, 11, 60, 9], [71, 177, 2, 32, 11, 60, 9, 45], [71, 177, 2, 32, 11, 60, 9, 45, 4], [71, 177, 2, 32, 11, 60, 9, 45, 4, 10], [56, 98], [56, 98, 71], [56, 98, 71, 177], [56, 98, 71, 177, 2], [56, 98, 71, 177, 2, 178], [56, 98, 71, 177, 2, 178, 63], [56, 98, 71, 177, 2, 178, 63, 22], [56, 98, 71, 177, 2, 178, 63, 22, 458], [14, 459], [14, 459, 178], [14, 459, 178, 460], [14, 459, 178, 460, 70], [14, 459, 178, 460, 70, 461], [14, 459, 178, 460, 70, 461, 16], [14, 459, 178, 460, 70, 461, 16, 11], [462, 1], [462, 1, 463], [462, 1, 463, 6], [462, 1, 463, 6, 464], [462, 1, 463, 6, 464, 465], [1, 466], [1, 466, 20], [1, 466, 20, 467], [1, 466, 20, 467, 468], [1, 466, 20, 467, 468, 85], [1, 466, 20, 467, 468, 85, 38], [1, 466, 20, 467, 468, 85, 38, 2], [4, 469], [4, 469, 23], [4, 469, 23, 158], [4, 469, 23, 158, 19], [4, 469, 23, 158, 19, 1], [4, 469, 23, 158, 19, 1, 107], [4, 469, 23, 158, 19, 1, 107, 6], [4, 469, 23, 158, 19, 1, 107, 6, 470], [37, 179], [37, 179, 51], [37, 179, 51, 471], [37, 179, 51, 471, 472], [3, 473], [3, 473, 6], [3, 473, 6, 474], [3, 473, 6, 474, 475], [3, 473, 6, 474, 475, 6], [3, 473, 6, 474, 475, 6, 476], [3, 473, 6, 474, 475, 6, 476, 70], [3, 473, 6, 474, 475, 6, 476, 70, 179], [51, 477], [51, 477, 6], [51, 477, 6, 478], [51, 477, 6, 478, 99], [51, 477, 6, 478, 99, 6], [51, 477, 6, 478, 99, 6, 52], [51, 477, 6, 478, 99, 6, 52, 10], [51, 477, 6, 478, 99, 6, 52, 10, 479], [51, 477, 6, 478, 99, 6, 52, 10, 479, 4], [51, 477, 6, 478, 99, 6, 52, 10, 479, 4, 180], [27, 480], [27, 480, 73], [27, 480, 73, 2], [27, 480, 73, 2, 17], [27, 480, 73, 2, 17, 181], [27, 480, 73, 2, 17, 181, 481], [4, 15], [4, 15, 89], [4, 15, 89, 165], [4, 15, 89, 165, 126], [4, 15, 89, 165, 126, 482], [4, 15, 89, 165, 126, 482, 26], [4, 15, 89, 165, 126, 482, 26, 43], [4, 15, 89, 165, 126, 482, 26, 43, 483], [25, 108], [25, 108, 39], [25, 108, 39, 105], [25, 108, 39, 105, 11], [25, 108, 39, 105, 11, 42], [25, 15], [25, 15, 105], [21, 159], [21, 159, 484], [21, 159, 484, 157], [21, 159, 484, 157, 69], [21, 159, 484, 157, 69, 2], [21, 159, 484, 157, 69, 2, 108], [21, 159, 484, 157, 69, 2, 108, 25], [21, 159, 484, 157, 69, 2, 108, 25, 32], [21, 159, 484, 157, 69, 2, 108, 25, 32, 11], [109, 26], [109, 26, 485], [109, 26, 485, 7], [109, 26, 485, 7, 31], [109, 26, 485, 7, 31, 7], [109, 26, 485, 7, 31, 7, 486], [109, 26, 485, 7, 31, 7, 486, 34], [109, 26, 485, 7, 31, 7, 486, 34, 487], [18, 488], [18, 488, 489], [18, 488, 489, 78], [18, 488, 489, 78, 6], [18, 488, 489, 78, 6, 182], [18, 488, 489, 78, 6, 182, 21], [18, 488, 489, 78, 6, 182, 21, 12], [18, 488, 489, 78, 6, 182, 21, 12, 5], [18, 488, 489, 78, 6, 182, 21, 12, 5, 490], [491, 492], [491, 492, 3], [491, 492, 3, 79], [491, 492, 3, 79, 493], [491, 492, 3, 79, 493, 182], [29, 183], [29, 183, 3], [29, 183, 3, 183], [29, 183, 3, 183, 1], [29, 183, 3, 183, 1, 494], [29, 183, 3, 183, 1, 494, 8], [29, 183, 3, 183, 1, 494, 8, 495], [29, 183, 3, 183, 1, 494, 8, 495, 496], [29, 183, 3, 183, 1, 494, 8, 495, 496, 2], [70, 497], [70, 497, 2], [70, 497, 2, 94], [70, 497, 2, 94, 498], [70, 497, 2, 94, 498, 31], [70, 497, 2, 94, 498, 31, 499], [70, 497, 2, 94, 498, 31, 499, 13], [19, 5], [19, 5, 500], [19, 5, 500, 501], [19, 5, 500, 501, 18], [19, 5, 500, 501, 18, 43], [19, 5, 500, 501, 18, 43, 68], [4, 107], [4, 107, 23], [4, 107, 23, 34], [4, 107, 23, 34, 21], [4, 107, 23, 34, 21, 502], [4, 107, 23, 34, 21, 502, 27], [4, 107, 23, 34, 21, 502, 27, 2], [4, 107, 23, 34, 21, 502, 27, 2, 94], [4, 107, 23, 34, 21, 502, 27, 2, 94, 23], [503, 504], [503, 504, 1], [503, 504, 1, 109], [503, 504, 1, 109, 28], [503, 504, 1, 109, 28, 1], [503, 504, 1, 109, 28, 1, 170], [503, 504, 1, 109, 28, 1, 170, 505], [503, 504, 1, 109, 28, 1, 170, 505, 42], [3, 101], [3, 101, 35], [3, 101, 35, 28], [3, 101, 35, 28, 1], [3, 101, 35, 28, 1, 168], [3, 101, 35, 28, 1, 168, 8], [3, 101, 35, 28, 1, 168, 8, 180], [3, 101, 35, 28, 1, 168, 8, 180, 5], [3, 101, 35, 28, 1, 168, 8, 180, 5, 74], [5, 74], [5, 74, 44], [5, 74, 44, 22], [5, 74, 44, 22, 506], [5, 74, 44, 22, 506, 52], [5, 74, 44, 22, 506, 52, 184], [8, 507], [8, 507, 31], [8, 507, 31, 508], [8, 507, 31, 508, 6], [8, 507, 31, 508, 6, 509], [8, 507, 31, 508, 6, 509, 18], [8, 507, 31, 508, 6, 509, 18, 2], [8, 507, 31, 508, 6, 509, 18, 2, 39], [5, 74], [5, 74, 22], [5, 74, 22, 43], [5, 74, 22, 43, 38], [5, 74, 22, 43, 38, 2], [5, 74, 22, 43, 38, 2, 185], [5, 74, 22, 43, 38, 2, 185, 186], [37, 4], [37, 4, 10], [37, 4, 10, 510], [37, 4, 10, 510, 4], [37, 4, 10, 510, 4, 24], [37, 4, 10, 510, 4, 24, 91], [37, 4, 10, 510, 4, 24, 91, 172], [2, 108], [2, 108, 96], [2, 108, 96, 32], [2, 108, 96, 32, 11], [2, 108, 96, 32, 11, 91], [2, 108, 96, 32, 11, 91, 511], [2, 108, 96, 32, 11, 91, 511, 512], [21, 185], [21, 185, 186], [21, 185, 186, 513], [21, 185, 186, 513, 23], [21, 185, 186, 513, 23, 187], [21, 185, 186, 513, 23, 187, 188], [1, 514], [1, 514, 6], [1, 514, 6, 109], [1, 514, 6, 109, 4], [1, 514, 6, 109, 4, 57], [1, 514, 6, 109, 4, 57, 515], [1, 514, 6, 109, 4, 57, 515, 110], [1, 514, 6, 109, 4, 57, 515, 110, 111], [16, 18], [16, 18, 10], [16, 18, 10, 29], [16, 18, 10, 29, 26], [16, 18, 10, 29, 26, 516], [16, 18, 10, 29, 26, 516, 50], [16, 18, 10, 29, 26, 516, 50, 184], [110, 111], [110, 111, 23], [110, 111, 23, 187], [110, 111, 23, 187, 188], [110, 111, 23, 187, 188, 1], [110, 111, 23, 187, 188, 1, 517], [110, 111, 23, 187, 188, 1, 517, 518], [4, 57], [4, 57, 17], [4, 57, 17, 519], [4, 57, 17, 519, 2], [4, 57, 17, 519, 2, 520], [4, 57, 17, 519, 2, 520, 1], [4, 57, 17, 519, 2, 520, 1, 521], [43, 522], [43, 522, 7], [43, 522, 7, 523], [43, 522, 7, 523, 16], [43, 522, 7, 523, 16, 99], [43, 522, 7, 523, 16, 99, 22], [43, 522, 7, 523, 16, 99, 22, 33], [43, 522, 7, 523, 16, 99, 22, 33, 524], [525, 526], [525, 526, 527], [525, 526, 527, 528], [525, 526, 527, 528, 529], [15, 530], [15, 530, 73], [15, 530, 73, 28], [15, 530, 73, 28, 2], [15, 530, 73, 28, 2, 531], [15, 530, 73, 28, 2, 531, 176], [15, 530, 73, 28, 2, 531, 176, 73], [5, 74], [5, 74, 44], [5, 74, 44, 22], [5, 74, 44, 22, 4], [5, 74, 44, 22, 4, 532], [5, 74, 44, 22, 4, 532, 60], [5, 74, 44, 22, 4, 532, 60, 4], [5, 74, 44, 22, 4, 532, 60, 4, 24], [181, 110], [181, 110, 111], [181, 110, 111, 98], [181, 110, 111, 98, 2], [181, 110, 111, 98, 2, 533], [181, 110, 111, 98, 2, 533, 49], [181, 110, 111, 98, 2, 533, 49, 100], [181, 110, 111, 98, 2, 533, 49, 100, 106], [14, 92], [14, 92, 17], [14, 92, 17, 534], [14, 92, 17, 534, 20], [14, 92, 17, 534, 20, 5], [14, 92, 17, 534, 20, 5, 535], [14, 92, 17, 534, 20, 5, 535, 536], [34, 537], [34, 537, 4], [34, 537, 4, 538], [34, 537, 4, 538, 120], [34, 537, 4, 538, 120, 13], [34, 537, 4, 538, 120, 13, 7], [34, 537, 4, 538, 120, 13, 7, 5], [34, 537, 4, 538, 120, 13, 7, 5, 539], [4, 540], [4, 540, 541], [4, 540, 541, 189], [4, 540, 541, 189, 4], [4, 540, 541, 189, 4, 15], [4, 540, 541, 189, 4, 15, 542], [4, 540, 541, 189, 4, 15, 542, 25], [4, 540, 541, 189, 4, 15, 542, 25, 13], [7, 189], [7, 189, 25], [7, 189, 25, 543], [7, 189, 25, 543, 5], [7, 189, 25, 543, 5, 544], [7, 189, 25, 543, 5, 544, 44]]\n"
          ]
        }
      ]
    },
    {
      "cell_type": "code",
      "source": [
        "max_seq_length = max(len(x) for x in input_seq)\n",
        "print(max_seq_length)"
      ],
      "metadata": {
        "colab": {
          "base_uri": "https://localhost:8080/"
        },
        "id": "Wi33hxfAfxBm",
        "outputId": "f6110d1d-7a40-4e02-9f44-43af3d409fe4"
      },
      "execution_count": null,
      "outputs": [
        {
          "output_type": "stream",
          "name": "stdout",
          "text": [
            "11\n"
          ]
        }
      ]
    },
    {
      "cell_type": "code",
      "source": [
        "input_seq = np.array(pad_sequences(input_seq, maxlen=max_seq_length, padding='pre'))\n",
        "print(input_seq)"
      ],
      "metadata": {
        "colab": {
          "base_uri": "https://localhost:8080/"
        },
        "id": "yD8OApAqfw_O",
        "outputId": "9934c221-aa21-474e-bbb1-51bf9c185b3d"
      },
      "execution_count": null,
      "outputs": [
        {
          "output_type": "stream",
          "name": "stdout",
          "text": [
            "[[  0   0   0 ...   0 112 113]\n",
            " [  0   0   0 ... 112 113 114]\n",
            " [  0   0   0 ... 113 114   7]\n",
            " ...\n",
            " [  0   0   0 ...  25 543   5]\n",
            " [  0   0   0 ... 543   5 544]\n",
            " [  0   0   0 ...   5 544  44]]\n"
          ]
        }
      ]
    },
    {
      "cell_type": "code",
      "source": [
        "xs = input_seq[:,  :-1]        # xs contains every word in sentence except the last one because we are using this value to predict the y value\n",
        "labels = input_seq[:, -1]     # labels contains only the last word of the sentence which will help in hot encoding the y value in next step\n",
        "print(\"xs: \",xs)\n",
        "print(\"labels:\",labels)"
      ],
      "metadata": {
        "colab": {
          "base_uri": "https://localhost:8080/"
        },
        "id": "At6yxZ1Bfw81",
        "outputId": "4cf07344-0418-4729-da51-b8aa14a4e13c"
      },
      "execution_count": null,
      "outputs": [
        {
          "output_type": "stream",
          "name": "stdout",
          "text": [
            "xs:  [[  0   0   0 ...   0   0 112]\n",
            " [  0   0   0 ...   0 112 113]\n",
            " [  0   0   0 ... 112 113 114]\n",
            " ...\n",
            " [  0   0   0 ... 189  25 543]\n",
            " [  0   0   0 ...  25 543   5]\n",
            " [  0   0   0 ... 543   5 544]]\n",
            "labels: [113 114   7 ...   5 544  44]\n"
          ]
        }
      ]
    },
    {
      "cell_type": "code",
      "source": [
        "from tensorflow.keras.utils import to_categorical"
      ],
      "metadata": {
        "id": "eGvC8puVfw6i"
      },
      "execution_count": null,
      "outputs": []
    },
    {
      "cell_type": "code",
      "source": [
        "ys = to_categorical(labels, num_classes=vocab_size)\n",
        "print(ys)"
      ],
      "metadata": {
        "colab": {
          "base_uri": "https://localhost:8080/"
        },
        "id": "CRlqEXvVgQ5K",
        "outputId": "c41943bd-53a9-4d5a-c284-1f0662619cd4"
      },
      "execution_count": null,
      "outputs": [
        {
          "output_type": "stream",
          "name": "stdout",
          "text": [
            "[[0. 0. 0. ... 0. 0. 0.]\n",
            " [0. 0. 0. ... 0. 0. 0.]\n",
            " [0. 0. 0. ... 0. 0. 0.]\n",
            " ...\n",
            " [0. 0. 0. ... 0. 0. 0.]\n",
            " [0. 0. 0. ... 0. 0. 1.]\n",
            " [0. 0. 0. ... 0. 0. 0.]]\n"
          ]
        }
      ]
    },
    {
      "cell_type": "code",
      "source": [
        "from tensorflow.keras.layers import Input, Dense, Embedding, LSTM, Dropout, Bidirectional, GlobalMaxPooling1D\n",
        "from tensorflow.keras.models import Model\n",
        "from tensorflow.keras.optimizers import Adam\n",
        "from tensorflow.keras.models import Sequential"
      ],
      "metadata": {
        "id": "AQBXWG9lgQ1s"
      },
      "execution_count": null,
      "outputs": []
    },
    {
      "cell_type": "code",
      "source": [
        "i = Input(shape=(max_seq_length - 1, ))                           # using 1 less value becasuse we are preserving the last value for predicted word\n",
        "x = Embedding(vocab_size, 124)(i)\n",
        "x = Dropout(0.2)(x)\n",
        "x = LSTM(520, return_sequences=True)(x)\n",
        "x = Bidirectional(layer=LSTM(340, return_sequences=True))(x)\n",
        "x = GlobalMaxPooling1D()(x)\n",
        "x = Dense(1024, activation='relu')(x)\n",
        "x = Dense(vocab_size, activation='softmax')(x)\n",
        "\n",
        "model = Model(i,x)"
      ],
      "metadata": {
        "id": "2em5xdiYgQz-"
      },
      "execution_count": null,
      "outputs": []
    },
    {
      "cell_type": "code",
      "source": [
        "model.compile(optimizer=Adam(learning_rate=0.001),loss = 'categorical_crossentropy',metrics=['accuracy'])\n",
        "# Changed 'lr' to 'learning_rate' in the Adam optimizer initialization."
      ],
      "metadata": {
        "id": "0NqG6DASgQx3"
      },
      "execution_count": null,
      "outputs": []
    },
    {
      "cell_type": "code",
      "source": [
        "r = model.fit(xs,ys,epochs=100)"
      ],
      "metadata": {
        "colab": {
          "base_uri": "https://localhost:8080/"
        },
        "id": "4oQRNZI9gQv7",
        "outputId": "512c18ed-ab61-4cd3-e5e7-395795004f23"
      },
      "execution_count": null,
      "outputs": [
        {
          "output_type": "stream",
          "name": "stdout",
          "text": [
            "Epoch 1/100\n",
            "\u001b[1m38/38\u001b[0m \u001b[32m━━━━━━━━━━━━━━━━━━━━\u001b[0m\u001b[37m\u001b[0m \u001b[1m9s\u001b[0m 15ms/step - accuracy: 0.0344 - loss: 6.1733\n",
            "Epoch 2/100\n",
            "\u001b[1m38/38\u001b[0m \u001b[32m━━━━━━━━━━━━━━━━━━━━\u001b[0m\u001b[37m\u001b[0m \u001b[1m0s\u001b[0m 12ms/step - accuracy: 0.0372 - loss: 5.7712\n",
            "Epoch 3/100\n",
            "\u001b[1m38/38\u001b[0m \u001b[32m━━━━━━━━━━━━━━━━━━━━\u001b[0m\u001b[37m\u001b[0m \u001b[1m0s\u001b[0m 12ms/step - accuracy: 0.0482 - loss: 5.6786\n",
            "Epoch 4/100\n",
            "\u001b[1m38/38\u001b[0m \u001b[32m━━━━━━━━━━━━━━━━━━━━\u001b[0m\u001b[37m\u001b[0m \u001b[1m1s\u001b[0m 12ms/step - accuracy: 0.0306 - loss: 5.7357\n",
            "Epoch 5/100\n",
            "\u001b[1m38/38\u001b[0m \u001b[32m━━━━━━━━━━━━━━━━━━━━\u001b[0m\u001b[37m\u001b[0m \u001b[1m1s\u001b[0m 13ms/step - accuracy: 0.0425 - loss: 5.6231\n",
            "Epoch 6/100\n",
            "\u001b[1m38/38\u001b[0m \u001b[32m━━━━━━━━━━━━━━━━━━━━\u001b[0m\u001b[37m\u001b[0m \u001b[1m0s\u001b[0m 12ms/step - accuracy: 0.0324 - loss: 5.6592\n",
            "Epoch 7/100\n",
            "\u001b[1m38/38\u001b[0m \u001b[32m━━━━━━━━━━━━━━━━━━━━\u001b[0m\u001b[37m\u001b[0m \u001b[1m0s\u001b[0m 12ms/step - accuracy: 0.0484 - loss: 5.4157\n",
            "Epoch 8/100\n",
            "\u001b[1m38/38\u001b[0m \u001b[32m━━━━━━━━━━━━━━━━━━━━\u001b[0m\u001b[37m\u001b[0m \u001b[1m1s\u001b[0m 12ms/step - accuracy: 0.0509 - loss: 5.3475\n",
            "Epoch 9/100\n",
            "\u001b[1m38/38\u001b[0m \u001b[32m━━━━━━━━━━━━━━━━━━━━\u001b[0m\u001b[37m\u001b[0m \u001b[1m0s\u001b[0m 12ms/step - accuracy: 0.0536 - loss: 5.2057\n",
            "Epoch 10/100\n",
            "\u001b[1m38/38\u001b[0m \u001b[32m━━━━━━━━━━━━━━━━━━━━\u001b[0m\u001b[37m\u001b[0m \u001b[1m1s\u001b[0m 12ms/step - accuracy: 0.0648 - loss: 4.9528\n",
            "Epoch 11/100\n",
            "\u001b[1m38/38\u001b[0m \u001b[32m━━━━━━━━━━━━━━━━━━━━\u001b[0m\u001b[37m\u001b[0m \u001b[1m0s\u001b[0m 12ms/step - accuracy: 0.0790 - loss: 4.6943\n",
            "Epoch 12/100\n",
            "\u001b[1m38/38\u001b[0m \u001b[32m━━━━━━━━━━━━━━━━━━━━\u001b[0m\u001b[37m\u001b[0m \u001b[1m0s\u001b[0m 12ms/step - accuracy: 0.0885 - loss: 4.4948\n",
            "Epoch 13/100\n",
            "\u001b[1m38/38\u001b[0m \u001b[32m━━━━━━━━━━━━━━━━━━━━\u001b[0m\u001b[37m\u001b[0m \u001b[1m1s\u001b[0m 12ms/step - accuracy: 0.0902 - loss: 4.2495\n",
            "Epoch 14/100\n",
            "\u001b[1m38/38\u001b[0m \u001b[32m━━━━━━━━━━━━━━━━━━━━\u001b[0m\u001b[37m\u001b[0m \u001b[1m1s\u001b[0m 14ms/step - accuracy: 0.1071 - loss: 4.1583\n",
            "Epoch 15/100\n",
            "\u001b[1m38/38\u001b[0m \u001b[32m━━━━━━━━━━━━━━━━━━━━\u001b[0m\u001b[37m\u001b[0m \u001b[1m1s\u001b[0m 14ms/step - accuracy: 0.1192 - loss: 3.9165\n",
            "Epoch 16/100\n",
            "\u001b[1m38/38\u001b[0m \u001b[32m━━━━━━━━━━━━━━━━━━━━\u001b[0m\u001b[37m\u001b[0m \u001b[1m1s\u001b[0m 15ms/step - accuracy: 0.1548 - loss: 3.7064\n",
            "Epoch 17/100\n",
            "\u001b[1m38/38\u001b[0m \u001b[32m━━━━━━━━━━━━━━━━━━━━\u001b[0m\u001b[37m\u001b[0m \u001b[1m1s\u001b[0m 16ms/step - accuracy: 0.1785 - loss: 3.4460\n",
            "Epoch 18/100\n",
            "\u001b[1m38/38\u001b[0m \u001b[32m━━━━━━━━━━━━━━━━━━━━\u001b[0m\u001b[37m\u001b[0m \u001b[1m1s\u001b[0m 14ms/step - accuracy: 0.2029 - loss: 3.2733\n",
            "Epoch 19/100\n",
            "\u001b[1m38/38\u001b[0m \u001b[32m━━━━━━━━━━━━━━━━━━━━\u001b[0m\u001b[37m\u001b[0m \u001b[1m1s\u001b[0m 13ms/step - accuracy: 0.2708 - loss: 2.9032\n",
            "Epoch 20/100\n",
            "\u001b[1m38/38\u001b[0m \u001b[32m━━━━━━━━━━━━━━━━━━━━\u001b[0m\u001b[37m\u001b[0m \u001b[1m0s\u001b[0m 12ms/step - accuracy: 0.2611 - loss: 2.8053\n",
            "Epoch 21/100\n",
            "\u001b[1m38/38\u001b[0m \u001b[32m━━━━━━━━━━━━━━━━━━━━\u001b[0m\u001b[37m\u001b[0m \u001b[1m1s\u001b[0m 12ms/step - accuracy: 0.3530 - loss: 2.5395\n",
            "Epoch 22/100\n",
            "\u001b[1m38/38\u001b[0m \u001b[32m━━━━━━━━━━━━━━━━━━━━\u001b[0m\u001b[37m\u001b[0m \u001b[1m0s\u001b[0m 12ms/step - accuracy: 0.3781 - loss: 2.3559\n",
            "Epoch 23/100\n",
            "\u001b[1m38/38\u001b[0m \u001b[32m━━━━━━━━━━━━━━━━━━━━\u001b[0m\u001b[37m\u001b[0m \u001b[1m1s\u001b[0m 12ms/step - accuracy: 0.4426 - loss: 2.0696\n",
            "Epoch 24/100\n",
            "\u001b[1m38/38\u001b[0m \u001b[32m━━━━━━━━━━━━━━━━━━━━\u001b[0m\u001b[37m\u001b[0m \u001b[1m0s\u001b[0m 12ms/step - accuracy: 0.5250 - loss: 1.7725\n",
            "Epoch 25/100\n",
            "\u001b[1m38/38\u001b[0m \u001b[32m━━━━━━━━━━━━━━━━━━━━\u001b[0m\u001b[37m\u001b[0m \u001b[1m1s\u001b[0m 12ms/step - accuracy: 0.5401 - loss: 1.7312\n",
            "Epoch 26/100\n",
            "\u001b[1m38/38\u001b[0m \u001b[32m━━━━━━━━━━━━━━━━━━━━\u001b[0m\u001b[37m\u001b[0m \u001b[1m0s\u001b[0m 12ms/step - accuracy: 0.5674 - loss: 1.5717\n",
            "Epoch 27/100\n",
            "\u001b[1m38/38\u001b[0m \u001b[32m━━━━━━━━━━━━━━━━━━━━\u001b[0m\u001b[37m\u001b[0m \u001b[1m0s\u001b[0m 12ms/step - accuracy: 0.6108 - loss: 1.3660\n",
            "Epoch 28/100\n",
            "\u001b[1m38/38\u001b[0m \u001b[32m━━━━━━━━━━━━━━━━━━━━\u001b[0m\u001b[37m\u001b[0m \u001b[1m1s\u001b[0m 12ms/step - accuracy: 0.6803 - loss: 1.1508\n",
            "Epoch 29/100\n",
            "\u001b[1m38/38\u001b[0m \u001b[32m━━━━━━━━━━━━━━━━━━━━\u001b[0m\u001b[37m\u001b[0m \u001b[1m0s\u001b[0m 12ms/step - accuracy: 0.6834 - loss: 1.0790\n",
            "Epoch 30/100\n",
            "\u001b[1m38/38\u001b[0m \u001b[32m━━━━━━━━━━━━━━━━━━━━\u001b[0m\u001b[37m\u001b[0m \u001b[1m1s\u001b[0m 12ms/step - accuracy: 0.7395 - loss: 0.9231\n",
            "Epoch 31/100\n",
            "\u001b[1m38/38\u001b[0m \u001b[32m━━━━━━━━━━━━━━━━━━━━\u001b[0m\u001b[37m\u001b[0m \u001b[1m0s\u001b[0m 12ms/step - accuracy: 0.7619 - loss: 0.8423\n",
            "Epoch 32/100\n",
            "\u001b[1m38/38\u001b[0m \u001b[32m━━━━━━━━━━━━━━━━━━━━\u001b[0m\u001b[37m\u001b[0m \u001b[1m0s\u001b[0m 12ms/step - accuracy: 0.7651 - loss: 0.8267\n",
            "Epoch 33/100\n",
            "\u001b[1m38/38\u001b[0m \u001b[32m━━━━━━━━━━━━━━━━━━━━\u001b[0m\u001b[37m\u001b[0m \u001b[1m0s\u001b[0m 12ms/step - accuracy: 0.8140 - loss: 0.6670\n",
            "Epoch 34/100\n",
            "\u001b[1m38/38\u001b[0m \u001b[32m━━━━━━━━━━━━━━━━━━━━\u001b[0m\u001b[37m\u001b[0m \u001b[1m1s\u001b[0m 13ms/step - accuracy: 0.8038 - loss: 0.6742\n",
            "Epoch 35/100\n",
            "\u001b[1m38/38\u001b[0m \u001b[32m━━━━━━━━━━━━━━━━━━━━\u001b[0m\u001b[37m\u001b[0m \u001b[1m0s\u001b[0m 12ms/step - accuracy: 0.8337 - loss: 0.5551\n",
            "Epoch 36/100\n",
            "\u001b[1m38/38\u001b[0m \u001b[32m━━━━━━━━━━━━━━━━━━━━\u001b[0m\u001b[37m\u001b[0m \u001b[1m1s\u001b[0m 12ms/step - accuracy: 0.8477 - loss: 0.5548\n",
            "Epoch 37/100\n",
            "\u001b[1m38/38\u001b[0m \u001b[32m━━━━━━━━━━━━━━━━━━━━\u001b[0m\u001b[37m\u001b[0m \u001b[1m1s\u001b[0m 14ms/step - accuracy: 0.8661 - loss: 0.4786\n",
            "Epoch 38/100\n",
            "\u001b[1m38/38\u001b[0m \u001b[32m━━━━━━━━━━━━━━━━━━━━\u001b[0m\u001b[37m\u001b[0m \u001b[1m1s\u001b[0m 16ms/step - accuracy: 0.8559 - loss: 0.4964\n",
            "Epoch 39/100\n",
            "\u001b[1m38/38\u001b[0m \u001b[32m━━━━━━━━━━━━━━━━━━━━\u001b[0m\u001b[37m\u001b[0m \u001b[1m1s\u001b[0m 15ms/step - accuracy: 0.8580 - loss: 0.4573\n",
            "Epoch 40/100\n",
            "\u001b[1m38/38\u001b[0m \u001b[32m━━━━━━━━━━━━━━━━━━━━\u001b[0m\u001b[37m\u001b[0m \u001b[1m1s\u001b[0m 15ms/step - accuracy: 0.8712 - loss: 0.4417\n",
            "Epoch 41/100\n",
            "\u001b[1m38/38\u001b[0m \u001b[32m━━━━━━━━━━━━━━━━━━━━\u001b[0m\u001b[37m\u001b[0m \u001b[1m1s\u001b[0m 15ms/step - accuracy: 0.8449 - loss: 0.4805\n",
            "Epoch 42/100\n",
            "\u001b[1m38/38\u001b[0m \u001b[32m━━━━━━━━━━━━━━━━━━━━\u001b[0m\u001b[37m\u001b[0m \u001b[1m1s\u001b[0m 12ms/step - accuracy: 0.8752 - loss: 0.4288\n",
            "Epoch 43/100\n",
            "\u001b[1m38/38\u001b[0m \u001b[32m━━━━━━━━━━━━━━━━━━━━\u001b[0m\u001b[37m\u001b[0m \u001b[1m0s\u001b[0m 12ms/step - accuracy: 0.8689 - loss: 0.4375\n",
            "Epoch 44/100\n",
            "\u001b[1m38/38\u001b[0m \u001b[32m━━━━━━━━━━━━━━━━━━━━\u001b[0m\u001b[37m\u001b[0m \u001b[1m1s\u001b[0m 12ms/step - accuracy: 0.8944 - loss: 0.3474\n",
            "Epoch 45/100\n",
            "\u001b[1m38/38\u001b[0m \u001b[32m━━━━━━━━━━━━━━━━━━━━\u001b[0m\u001b[37m\u001b[0m \u001b[1m0s\u001b[0m 12ms/step - accuracy: 0.8792 - loss: 0.4178\n",
            "Epoch 46/100\n",
            "\u001b[1m38/38\u001b[0m \u001b[32m━━━━━━━━━━━━━━━━━━━━\u001b[0m\u001b[37m\u001b[0m \u001b[1m0s\u001b[0m 12ms/step - accuracy: 0.8893 - loss: 0.3542\n",
            "Epoch 47/100\n",
            "\u001b[1m38/38\u001b[0m \u001b[32m━━━━━━━━━━━━━━━━━━━━\u001b[0m\u001b[37m\u001b[0m \u001b[1m0s\u001b[0m 12ms/step - accuracy: 0.8907 - loss: 0.3343\n",
            "Epoch 48/100\n",
            "\u001b[1m38/38\u001b[0m \u001b[32m━━━━━━━━━━━━━━━━━━━━\u001b[0m\u001b[37m\u001b[0m \u001b[1m0s\u001b[0m 12ms/step - accuracy: 0.8889 - loss: 0.3148\n",
            "Epoch 49/100\n",
            "\u001b[1m38/38\u001b[0m \u001b[32m━━━━━━━━━━━━━━━━━━━━\u001b[0m\u001b[37m\u001b[0m \u001b[1m1s\u001b[0m 12ms/step - accuracy: 0.9081 - loss: 0.2841\n",
            "Epoch 50/100\n",
            "\u001b[1m38/38\u001b[0m \u001b[32m━━━━━━━━━━━━━━━━━━━━\u001b[0m\u001b[37m\u001b[0m \u001b[1m1s\u001b[0m 12ms/step - accuracy: 0.8958 - loss: 0.3001\n",
            "Epoch 51/100\n",
            "\u001b[1m38/38\u001b[0m \u001b[32m━━━━━━━━━━━━━━━━━━━━\u001b[0m\u001b[37m\u001b[0m \u001b[1m1s\u001b[0m 12ms/step - accuracy: 0.9028 - loss: 0.2965\n",
            "Epoch 52/100\n",
            "\u001b[1m38/38\u001b[0m \u001b[32m━━━━━━━━━━━━━━━━━━━━\u001b[0m\u001b[37m\u001b[0m \u001b[1m0s\u001b[0m 12ms/step - accuracy: 0.9198 - loss: 0.2570\n",
            "Epoch 53/100\n",
            "\u001b[1m38/38\u001b[0m \u001b[32m━━━━━━━━━━━━━━━━━━━━\u001b[0m\u001b[37m\u001b[0m \u001b[1m1s\u001b[0m 12ms/step - accuracy: 0.9092 - loss: 0.2782\n",
            "Epoch 54/100\n",
            "\u001b[1m38/38\u001b[0m \u001b[32m━━━━━━━━━━━━━━━━━━━━\u001b[0m\u001b[37m\u001b[0m \u001b[1m1s\u001b[0m 12ms/step - accuracy: 0.9007 - loss: 0.2873\n",
            "Epoch 55/100\n",
            "\u001b[1m38/38\u001b[0m \u001b[32m━━━━━━━━━━━━━━━━━━━━\u001b[0m\u001b[37m\u001b[0m \u001b[1m0s\u001b[0m 12ms/step - accuracy: 0.8961 - loss: 0.3007\n",
            "Epoch 56/100\n",
            "\u001b[1m38/38\u001b[0m \u001b[32m━━━━━━━━━━━━━━━━━━━━\u001b[0m\u001b[37m\u001b[0m \u001b[1m0s\u001b[0m 12ms/step - accuracy: 0.9095 - loss: 0.2914\n",
            "Epoch 57/100\n",
            "\u001b[1m38/38\u001b[0m \u001b[32m━━━━━━━━━━━━━━━━━━━━\u001b[0m\u001b[37m\u001b[0m \u001b[1m1s\u001b[0m 12ms/step - accuracy: 0.8974 - loss: 0.3229\n",
            "Epoch 58/100\n",
            "\u001b[1m38/38\u001b[0m \u001b[32m━━━━━━━━━━━━━━━━━━━━\u001b[0m\u001b[37m\u001b[0m \u001b[1m1s\u001b[0m 12ms/step - accuracy: 0.9068 - loss: 0.2857\n",
            "Epoch 59/100\n",
            "\u001b[1m38/38\u001b[0m \u001b[32m━━━━━━━━━━━━━━━━━━━━\u001b[0m\u001b[37m\u001b[0m \u001b[1m1s\u001b[0m 13ms/step - accuracy: 0.9116 - loss: 0.2747\n",
            "Epoch 60/100\n",
            "\u001b[1m38/38\u001b[0m \u001b[32m━━━━━━━━━━━━━━━━━━━━\u001b[0m\u001b[37m\u001b[0m \u001b[1m1s\u001b[0m 15ms/step - accuracy: 0.8722 - loss: 0.3894\n",
            "Epoch 61/100\n",
            "\u001b[1m38/38\u001b[0m \u001b[32m━━━━━━━━━━━━━━━━━━━━\u001b[0m\u001b[37m\u001b[0m \u001b[1m1s\u001b[0m 15ms/step - accuracy: 0.8495 - loss: 0.4586\n",
            "Epoch 62/100\n",
            "\u001b[1m38/38\u001b[0m \u001b[32m━━━━━━━━━━━━━━━━━━━━\u001b[0m\u001b[37m\u001b[0m \u001b[1m1s\u001b[0m 15ms/step - accuracy: 0.8592 - loss: 0.4835\n",
            "Epoch 63/100\n",
            "\u001b[1m38/38\u001b[0m \u001b[32m━━━━━━━━━━━━━━━━━━━━\u001b[0m\u001b[37m\u001b[0m \u001b[1m1s\u001b[0m 15ms/step - accuracy: 0.8582 - loss: 0.4057\n",
            "Epoch 64/100\n",
            "\u001b[1m38/38\u001b[0m \u001b[32m━━━━━━━━━━━━━━━━━━━━\u001b[0m\u001b[37m\u001b[0m \u001b[1m1s\u001b[0m 15ms/step - accuracy: 0.8775 - loss: 0.3610\n",
            "Epoch 65/100\n",
            "\u001b[1m38/38\u001b[0m \u001b[32m━━━━━━━━━━━━━━━━━━━━\u001b[0m\u001b[37m\u001b[0m \u001b[1m1s\u001b[0m 15ms/step - accuracy: 0.8840 - loss: 0.3353\n",
            "Epoch 66/100\n",
            "\u001b[1m38/38\u001b[0m \u001b[32m━━━━━━━━━━━━━━━━━━━━\u001b[0m\u001b[37m\u001b[0m \u001b[1m1s\u001b[0m 12ms/step - accuracy: 0.9043 - loss: 0.2747\n",
            "Epoch 67/100\n",
            "\u001b[1m38/38\u001b[0m \u001b[32m━━━━━━━━━━━━━━━━━━━━\u001b[0m\u001b[37m\u001b[0m \u001b[1m1s\u001b[0m 12ms/step - accuracy: 0.8875 - loss: 0.2974\n",
            "Epoch 68/100\n",
            "\u001b[1m38/38\u001b[0m \u001b[32m━━━━━━━━━━━━━━━━━━━━\u001b[0m\u001b[37m\u001b[0m \u001b[1m0s\u001b[0m 12ms/step - accuracy: 0.8856 - loss: 0.2996\n",
            "Epoch 69/100\n",
            "\u001b[1m38/38\u001b[0m \u001b[32m━━━━━━━━━━━━━━━━━━━━\u001b[0m\u001b[37m\u001b[0m \u001b[1m1s\u001b[0m 12ms/step - accuracy: 0.9060 - loss: 0.2382\n",
            "Epoch 70/100\n",
            "\u001b[1m38/38\u001b[0m \u001b[32m━━━━━━━━━━━━━━━━━━━━\u001b[0m\u001b[37m\u001b[0m \u001b[1m1s\u001b[0m 12ms/step - accuracy: 0.9184 - loss: 0.2296\n",
            "Epoch 71/100\n",
            "\u001b[1m38/38\u001b[0m \u001b[32m━━━━━━━━━━━━━━━━━━━━\u001b[0m\u001b[37m\u001b[0m \u001b[1m1s\u001b[0m 13ms/step - accuracy: 0.9185 - loss: 0.2407\n",
            "Epoch 72/100\n",
            "\u001b[1m38/38\u001b[0m \u001b[32m━━━━━━━━━━━━━━━━━━━━\u001b[0m\u001b[37m\u001b[0m \u001b[1m1s\u001b[0m 12ms/step - accuracy: 0.8930 - loss: 0.2981\n",
            "Epoch 73/100\n",
            "\u001b[1m38/38\u001b[0m \u001b[32m━━━━━━━━━━━━━━━━━━━━\u001b[0m\u001b[37m\u001b[0m \u001b[1m0s\u001b[0m 12ms/step - accuracy: 0.8999 - loss: 0.2752\n",
            "Epoch 74/100\n",
            "\u001b[1m38/38\u001b[0m \u001b[32m━━━━━━━━━━━━━━━━━━━━\u001b[0m\u001b[37m\u001b[0m \u001b[1m1s\u001b[0m 12ms/step - accuracy: 0.9054 - loss: 0.2573\n",
            "Epoch 75/100\n",
            "\u001b[1m38/38\u001b[0m \u001b[32m━━━━━━━━━━━━━━━━━━━━\u001b[0m\u001b[37m\u001b[0m \u001b[1m0s\u001b[0m 12ms/step - accuracy: 0.9055 - loss: 0.2648\n",
            "Epoch 76/100\n",
            "\u001b[1m38/38\u001b[0m \u001b[32m━━━━━━━━━━━━━━━━━━━━\u001b[0m\u001b[37m\u001b[0m \u001b[1m0s\u001b[0m 12ms/step - accuracy: 0.9053 - loss: 0.2335\n",
            "Epoch 77/100\n",
            "\u001b[1m38/38\u001b[0m \u001b[32m━━━━━━━━━━━━━━━━━━━━\u001b[0m\u001b[37m\u001b[0m \u001b[1m0s\u001b[0m 12ms/step - accuracy: 0.9050 - loss: 0.2382\n",
            "Epoch 78/100\n",
            "\u001b[1m38/38\u001b[0m \u001b[32m━━━━━━━━━━━━━━━━━━━━\u001b[0m\u001b[37m\u001b[0m \u001b[1m1s\u001b[0m 12ms/step - accuracy: 0.9018 - loss: 0.2357\n",
            "Epoch 79/100\n",
            "\u001b[1m38/38\u001b[0m \u001b[32m━━━━━━━━━━━━━━━━━━━━\u001b[0m\u001b[37m\u001b[0m \u001b[1m1s\u001b[0m 12ms/step - accuracy: 0.9006 - loss: 0.2527\n",
            "Epoch 80/100\n",
            "\u001b[1m38/38\u001b[0m \u001b[32m━━━━━━━━━━━━━━━━━━━━\u001b[0m\u001b[37m\u001b[0m \u001b[1m0s\u001b[0m 12ms/step - accuracy: 0.8952 - loss: 0.2712\n",
            "Epoch 81/100\n",
            "\u001b[1m38/38\u001b[0m \u001b[32m━━━━━━━━━━━━━━━━━━━━\u001b[0m\u001b[37m\u001b[0m \u001b[1m0s\u001b[0m 12ms/step - accuracy: 0.9142 - loss: 0.2426\n",
            "Epoch 82/100\n",
            "\u001b[1m38/38\u001b[0m \u001b[32m━━━━━━━━━━━━━━━━━━━━\u001b[0m\u001b[37m\u001b[0m \u001b[1m0s\u001b[0m 12ms/step - accuracy: 0.9053 - loss: 0.2412\n",
            "Epoch 83/100\n",
            "\u001b[1m38/38\u001b[0m \u001b[32m━━━━━━━━━━━━━━━━━━━━\u001b[0m\u001b[37m\u001b[0m \u001b[1m1s\u001b[0m 12ms/step - accuracy: 0.9019 - loss: 0.2569\n",
            "Epoch 84/100\n",
            "\u001b[1m38/38\u001b[0m \u001b[32m━━━━━━━━━━━━━━━━━━━━\u001b[0m\u001b[37m\u001b[0m \u001b[1m1s\u001b[0m 15ms/step - accuracy: 0.8988 - loss: 0.2712\n",
            "Epoch 85/100\n",
            "\u001b[1m38/38\u001b[0m \u001b[32m━━━━━━━━━━━━━━━━━━━━\u001b[0m\u001b[37m\u001b[0m \u001b[1m1s\u001b[0m 14ms/step - accuracy: 0.9026 - loss: 0.2658\n",
            "Epoch 86/100\n",
            "\u001b[1m38/38\u001b[0m \u001b[32m━━━━━━━━━━━━━━━━━━━━\u001b[0m\u001b[37m\u001b[0m \u001b[1m1s\u001b[0m 15ms/step - accuracy: 0.8871 - loss: 0.2832\n",
            "Epoch 87/100\n",
            "\u001b[1m38/38\u001b[0m \u001b[32m━━━━━━━━━━━━━━━━━━━━\u001b[0m\u001b[37m\u001b[0m \u001b[1m1s\u001b[0m 16ms/step - accuracy: 0.9098 - loss: 0.2452\n",
            "Epoch 88/100\n",
            "\u001b[1m38/38\u001b[0m \u001b[32m━━━━━━━━━━━━━━━━━━━━\u001b[0m\u001b[37m\u001b[0m \u001b[1m1s\u001b[0m 12ms/step - accuracy: 0.9044 - loss: 0.2591\n",
            "Epoch 89/100\n",
            "\u001b[1m38/38\u001b[0m \u001b[32m━━━━━━━━━━━━━━━━━━━━\u001b[0m\u001b[37m\u001b[0m \u001b[1m0s\u001b[0m 12ms/step - accuracy: 0.9022 - loss: 0.2292\n",
            "Epoch 90/100\n",
            "\u001b[1m38/38\u001b[0m \u001b[32m━━━━━━━━━━━━━━━━━━━━\u001b[0m\u001b[37m\u001b[0m \u001b[1m1s\u001b[0m 12ms/step - accuracy: 0.9013 - loss: 0.2433\n",
            "Epoch 91/100\n",
            "\u001b[1m38/38\u001b[0m \u001b[32m━━━━━━━━━━━━━━━━━━━━\u001b[0m\u001b[37m\u001b[0m \u001b[1m0s\u001b[0m 12ms/step - accuracy: 0.9070 - loss: 0.2342\n",
            "Epoch 92/100\n",
            "\u001b[1m38/38\u001b[0m \u001b[32m━━━━━━━━━━━━━━━━━━━━\u001b[0m\u001b[37m\u001b[0m \u001b[1m1s\u001b[0m 12ms/step - accuracy: 0.9063 - loss: 0.2482\n",
            "Epoch 93/100\n",
            "\u001b[1m38/38\u001b[0m \u001b[32m━━━━━━━━━━━━━━━━━━━━\u001b[0m\u001b[37m\u001b[0m \u001b[1m0s\u001b[0m 12ms/step - accuracy: 0.9169 - loss: 0.2039\n",
            "Epoch 94/100\n",
            "\u001b[1m38/38\u001b[0m \u001b[32m━━━━━━━━━━━━━━━━━━━━\u001b[0m\u001b[37m\u001b[0m \u001b[1m0s\u001b[0m 12ms/step - accuracy: 0.8989 - loss: 0.2384\n",
            "Epoch 95/100\n",
            "\u001b[1m38/38\u001b[0m \u001b[32m━━━━━━━━━━━━━━━━━━━━\u001b[0m\u001b[37m\u001b[0m \u001b[1m1s\u001b[0m 12ms/step - accuracy: 0.9108 - loss: 0.2284\n",
            "Epoch 96/100\n",
            "\u001b[1m38/38\u001b[0m \u001b[32m━━━━━━━━━━━━━━━━━━━━\u001b[0m\u001b[37m\u001b[0m \u001b[1m0s\u001b[0m 12ms/step - accuracy: 0.9167 - loss: 0.2045\n",
            "Epoch 97/100\n",
            "\u001b[1m38/38\u001b[0m \u001b[32m━━━━━━━━━━━━━━━━━━━━\u001b[0m\u001b[37m\u001b[0m \u001b[1m0s\u001b[0m 12ms/step - accuracy: 0.8995 - loss: 0.2459\n",
            "Epoch 98/100\n",
            "\u001b[1m38/38\u001b[0m \u001b[32m━━━━━━━━━━━━━━━━━━━━\u001b[0m\u001b[37m\u001b[0m \u001b[1m0s\u001b[0m 12ms/step - accuracy: 0.9052 - loss: 0.2379\n",
            "Epoch 99/100\n",
            "\u001b[1m38/38\u001b[0m \u001b[32m━━━━━━━━━━━━━━━━━━━━\u001b[0m\u001b[37m\u001b[0m \u001b[1m1s\u001b[0m 12ms/step - accuracy: 0.9150 - loss: 0.2179\n",
            "Epoch 100/100\n",
            "\u001b[1m38/38\u001b[0m \u001b[32m━━━━━━━━━━━━━━━━━━━━\u001b[0m\u001b[37m\u001b[0m \u001b[1m0s\u001b[0m 12ms/step - accuracy: 0.9084 - loss: 0.2212\n"
          ]
        }
      ]
    },
    {
      "cell_type": "code",
      "source": [
        "import matplotlib.pyplot as plt\n",
        "plt.plot(r.history['accuracy'])"
      ],
      "metadata": {
        "colab": {
          "base_uri": "https://localhost:8080/",
          "height": 447
        },
        "id": "8Vv2vIuhgQtw",
        "outputId": "1c015349-98dc-4002-a7ba-babe2f5b18e1"
      },
      "execution_count": null,
      "outputs": [
        {
          "output_type": "execute_result",
          "data": {
            "text/plain": [
              "[<matplotlib.lines.Line2D at 0x7ee3a15775b0>]"
            ]
          },
          "metadata": {},
          "execution_count": 22
        },
        {
          "output_type": "display_data",
          "data": {
            "text/plain": [
              "<Figure size 640x480 with 1 Axes>"
            ],
            "image/png": "[encoded data removed]"
          },
          "metadata": {}
        }
      ]
    },
    {
      "cell_type": "code",
      "source": [
        "def predict_words(seed, no_words):\n",
        "  for i in range(no_words):\n",
        "    token_list = tokenizer.texts_to_sequences([seed])[0]\n",
        "    token_list = pad_sequences([token_list], maxlen=max_seq_length-1, padding='pre')\n",
        "    predicted = np.argmax(model.predict(token_list), axis=1)\n",
        "\n",
        "    new_word = ''\n",
        "\n",
        "    for word, index in tokenizer.word_index.items():\n",
        "      if predicted == index:\n",
        "        new_word = word\n",
        "        break\n",
        "    seed += \" \" + new_word\n",
        "  print(seed)"
      ],
      "metadata": {
        "id": "dKk1FaoQhfJI"
      },
      "execution_count": null,
      "outputs": []
    },
    {
      "cell_type": "code",
      "source": [
        "seed_text = 'i am feeling good today'\n",
        "next_words = 20\n",
        "\n",
        "predict_words(seed_text, next_words)\n"
      ],
      "metadata": {
        "colab": {
          "base_uri": "https://localhost:8080/"
        },
        "id": "zVBqQR3qhfFt",
        "outputId": "ef3c0f0e-3fa6-4925-bfbf-0045726beb4e"
      },
      "execution_count": null,
      "outputs": [
        {
          "output_type": "stream",
          "name": "stdout",
          "text": [
            "\u001b[1m1/1\u001b[0m \u001b[32m━━━━━━━━━━━━━━━━━━━━\u001b[0m\u001b[37m\u001b[0m \u001b[1m0s\u001b[0m 326ms/step\n",
            "\u001b[1m1/1\u001b[0m \u001b[32m━━━━━━━━━━━━━━━━━━━━\u001b[0m\u001b[37m\u001b[0m \u001b[1m0s\u001b[0m 19ms/step\n",
            "\u001b[1m1/1\u001b[0m \u001b[32m━━━━━━━━━━━━━━━━━━━━\u001b[0m\u001b[37m\u001b[0m \u001b[1m0s\u001b[0m 17ms/step\n",
            "\u001b[1m1/1\u001b[0m \u001b[32m━━━━━━━━━━━━━━━━━━━━\u001b[0m\u001b[37m\u001b[0m \u001b[1m0s\u001b[0m 16ms/step\n",
            "\u001b[1m1/1\u001b[0m \u001b[32m━━━━━━━━━━━━━━━━━━━━\u001b[0m\u001b[37m\u001b[0m \u001b[1m0s\u001b[0m 20ms/step\n",
            "\u001b[1m1/1\u001b[0m \u001b[32m━━━━━━━━━━━━━━━━━━━━\u001b[0m\u001b[37m\u001b[0m \u001b[1m0s\u001b[0m 18ms/step\n",
            "\u001b[1m1/1\u001b[0m \u001b[32m━━━━━━━━━━━━━━━━━━━━\u001b[0m\u001b[37m\u001b[0m \u001b[1m0s\u001b[0m 20ms/step\n",
            "\u001b[1m1/1\u001b[0m \u001b[32m━━━━━━━━━━━━━━━━━━━━\u001b[0m\u001b[37m\u001b[0m \u001b[1m0s\u001b[0m 18ms/step\n",
            "\u001b[1m1/1\u001b[0m \u001b[32m━━━━━━━━━━━━━━━━━━━━\u001b[0m\u001b[37m\u001b[0m \u001b[1m0s\u001b[0m 19ms/step\n",
            "\u001b[1m1/1\u001b[0m \u001b[32m━━━━━━━━━━━━━━━━━━━━\u001b[0m\u001b[37m\u001b[0m \u001b[1m0s\u001b[0m 19ms/step\n",
            "\u001b[1m1/1\u001b[0m \u001b[32m━━━━━━━━━━━━━━━━━━━━\u001b[0m\u001b[37m\u001b[0m \u001b[1m0s\u001b[0m 23ms/step\n",
            "\u001b[1m1/1\u001b[0m \u001b[32m━━━━━━━━━━━━━━━━━━━━\u001b[0m\u001b[37m\u001b[0m \u001b[1m0s\u001b[0m 22ms/step\n",
            "\u001b[1m1/1\u001b[0m \u001b[32m━━━━━━━━━━━━━━━━━━━━\u001b[0m\u001b[37m\u001b[0m \u001b[1m0s\u001b[0m 17ms/step\n",
            "\u001b[1m1/1\u001b[0m \u001b[32m━━━━━━━━━━━━━━━━━━━━\u001b[0m\u001b[37m\u001b[0m \u001b[1m0s\u001b[0m 18ms/step\n",
            "\u001b[1m1/1\u001b[0m \u001b[32m━━━━━━━━━━━━━━━━━━━━\u001b[0m\u001b[37m\u001b[0m \u001b[1m0s\u001b[0m 18ms/step\n",
            "\u001b[1m1/1\u001b[0m \u001b[32m━━━━━━━━━━━━━━━━━━━━\u001b[0m\u001b[37m\u001b[0m \u001b[1m0s\u001b[0m 17ms/step\n",
            "\u001b[1m1/1\u001b[0m \u001b[32m━━━━━━━━━━━━━━━━━━━━\u001b[0m\u001b[37m\u001b[0m \u001b[1m0s\u001b[0m 23ms/step\n",
            "\u001b[1m1/1\u001b[0m \u001b[32m━━━━━━━━━━━━━━━━━━━━\u001b[0m\u001b[37m\u001b[0m \u001b[1m0s\u001b[0m 17ms/step\n",
            "\u001b[1m1/1\u001b[0m \u001b[32m━━━━━━━━━━━━━━━━━━━━\u001b[0m\u001b[37m\u001b[0m \u001b[1m0s\u001b[0m 18ms/step\n",
            "\u001b[1m1/1\u001b[0m \u001b[32m━━━━━━━━━━━━━━━━━━━━\u001b[0m\u001b[37m\u001b[0m \u001b[1m0s\u001b[0m 16ms/step\n",
            "i am feeling good today birches bend to left and right there his thousand trees there again christmas trees trees again again trees over i\n"
          ]
        }
      ]
    }
  ],
  "metadata": {
    "colab": {
      "provenance": [],
      "gpuType": "T4"
    },
    "kernelspec": {
      "display_name": "Python 3",
      "name": "python3"
    },
    "language_info": {
      "name": "python"
    },
    "accelerator": "GPU"
  },
  "nbformat": 4,
  "nbformat_minor": 0
}